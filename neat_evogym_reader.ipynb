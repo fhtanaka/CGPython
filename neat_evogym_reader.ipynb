{
 "cells": [
  {
   "cell_type": "code",
   "execution_count": 1,
   "id": "35390180",
   "metadata": {},
   "outputs": [
    {
     "ename": "ModuleNotFoundError",
     "evalue": "No module named 'evogym'",
     "output_type": "error",
     "traceback": [
      "\u001b[0;31m---------------------------------------------------------------------------\u001b[0m",
      "\u001b[0;31mModuleNotFoundError\u001b[0m                       Traceback (most recent call last)",
      "\u001b[0;32m/tmp/ipykernel_4290/3969297566.py\u001b[0m in \u001b[0;36m<cell line: 2>\u001b[0;34m()\u001b[0m\n\u001b[1;32m      1\u001b[0m \u001b[0;32mfrom\u001b[0m \u001b[0mcopyreg\u001b[0m \u001b[0;32mimport\u001b[0m \u001b[0mconstructor\u001b[0m\u001b[0;34m\u001b[0m\u001b[0;34m\u001b[0m\u001b[0m\n\u001b[0;32m----> 2\u001b[0;31m \u001b[0;32mfrom\u001b[0m \u001b[0mevogym\u001b[0m \u001b[0;32mimport\u001b[0m \u001b[0mis_connected\u001b[0m\u001b[0;34m,\u001b[0m \u001b[0mhas_actuator\u001b[0m\u001b[0;34m,\u001b[0m \u001b[0mget_full_connectivity\u001b[0m\u001b[0;34m,\u001b[0m \u001b[0mhashable\u001b[0m\u001b[0;34m\u001b[0m\u001b[0;34m\u001b[0m\u001b[0m\n\u001b[0m\u001b[1;32m      3\u001b[0m \u001b[0;32mfrom\u001b[0m \u001b[0mevogym\u001b[0m\u001b[0;34m.\u001b[0m\u001b[0menvs\u001b[0m \u001b[0;32mimport\u001b[0m \u001b[0mStepsUp\u001b[0m\u001b[0;34m,\u001b[0m \u001b[0mWalkingFlat\u001b[0m\u001b[0;34m\u001b[0m\u001b[0;34m\u001b[0m\u001b[0m\n\u001b[1;32m      4\u001b[0m \u001b[0;32mimport\u001b[0m \u001b[0mstruct\u001b[0m\u001b[0;34m\u001b[0m\u001b[0;34m\u001b[0m\u001b[0m\n\u001b[1;32m      5\u001b[0m \u001b[0;32mfrom\u001b[0m \u001b[0mtyping\u001b[0m \u001b[0;32mimport\u001b[0m \u001b[0mList\u001b[0m\u001b[0;34m,\u001b[0m \u001b[0mTuple\u001b[0m\u001b[0;34m\u001b[0m\u001b[0;34m\u001b[0m\u001b[0m\n",
      "\u001b[0;31mModuleNotFoundError\u001b[0m: No module named 'evogym'"
     ]
    }
   ],
   "source": [
    "from copyreg import constructor\n",
    "from evogym import is_connected, has_actuator, get_full_connectivity, hashable\n",
    "from evogym.envs import StepsUp, WalkingFlat\n",
    "import struct\n",
    "from typing import List, Tuple\n",
    "import numpy as np\n",
    "import dill\n",
    "from pygifsicle import optimize\n",
    "import imageio\n",
    "import neat\n",
    "import os\n",
    "import neat_evogym"
   ]
  },
  {
   "cell_type": "code",
   "execution_count": 4,
   "id": "704c1056",
   "metadata": {},
   "outputs": [],
   "source": [
    "ENV = \"StepsUp\" # \"[WalkingFlat, StepsUp]\"\n",
    "STEPS = 600\n",
    "STRUCTURE = (5, 5)"
   ]
  },
  {
   "cell_type": "code",
   "execution_count": 5,
   "id": "9269d192",
   "metadata": {},
   "outputs": [],
   "source": [
    "winner = None\n",
    "robot_dict = None\n",
    "with open(\"winner.pkl\", \"rb\") as file:\n",
    "    winner = dill.load(file)\n",
    "with open(\"controllers.pkl\", \"rb\") as file:\n",
    "    robot_dict = dill.load(file)\n",
    "\n",
    "local_dir = os.path.dirname(\".\")\n",
    "\n",
    "config_path = os.path.join(local_dir, 'neat-structure-config')\n",
    "config_structure = neat.Config(neat.DefaultGenome, neat.DefaultReproduction,\n",
    "                     neat.DefaultSpeciesSet, neat.DefaultStagnation,\n",
    "                     config_path)\n",
    "\n",
    "config_path = os.path.join(local_dir, 'neat-controller-config')\n",
    "config_controller = neat.Config(neat.DefaultGenome, neat.DefaultReproduction,\n",
    "                     neat.DefaultSpeciesSet, neat.DefaultStagnation,\n",
    "                     config_path)\n",
    "\n"
   ]
  },
  {
   "cell_type": "code",
   "execution_count": 6,
   "id": "cd342c1c",
   "metadata": {},
   "outputs": [],
   "source": [
    "def get_observation(env):\n",
    "    a = env.get_vel_com_obs(\"robot\")\n",
    "    b = env.get_pos_com_obs(\"robot\")\n",
    "    c = env.get_floor_obs(\"robot\", [\"ground\"], 5)\n",
    "    return np.concatenate((a, b, c))\n",
    "\n",
    "def generate_robot(net, structure):\n",
    "    robot = np.zeros(structure)\n",
    "    for i in range(structure[0]):\n",
    "        for j in range(structure[1]):\n",
    "            input = (i - (structure[0] // 2),\n",
    "                     j - (structure[1] // 2))\n",
    "            graph_out = net.activate(input)\n",
    "            node = np.argmax(graph_out)\n",
    "            robot[i][j] = node\n",
    "    return robot\n",
    "\n",
    "def get_best_controller(robot, robot_dict):\n",
    "    robot_hash = hashable(robot)\n",
    "    return robot_dict[robot_hash].population.best_genome\n",
    "\n",
    "def unhash(robot_hash, structure):\n",
    "    idx = 0\n",
    "    robot = np.zeros(structure)\n",
    "    for i in range(structure[0]):\n",
    "        for j in range(structure[1]):\n",
    "            robot[i][j] = robot_hash[idx]\n",
    "            idx += 1\n",
    "    return robot"
   ]
  },
  {
   "cell_type": "code",
   "execution_count": 7,
   "id": "86968652",
   "metadata": {},
   "outputs": [],
   "source": [
    "net = neat.nn.FeedForwardNetwork.create(winner, config_structure)\n",
    "robot = generate_robot(net, STRUCTURE)\n",
    "controller = get_best_controller(robot, robot_dict)\n",
    "connections = get_full_connectivity(robot)\n",
    "r, done = neat_evogym.calculate_reward(ENV, STEPS, robot, connections, controller, config_controller, True)"
   ]
  },
  {
   "cell_type": "code",
   "execution_count": 8,
   "id": "33f81bc4",
   "metadata": {},
   "outputs": [
    {
     "name": "stdout",
     "output_type": "stream",
     "text": [
      "3.6466295375864974\n",
      "3.8181286404998573\n",
      "3.5219597187864307\n",
      "3.516573555788175\n"
     ]
    }
   ],
   "source": [
    "for robot_hash, controllers in robot_dict.items():\n",
    "    robot = unhash(robot_hash, STRUCTURE)\n",
    "    controller = get_best_controller(robot, robot_dict)\n",
    "    if controller.fitness > 3.5:\n",
    "        connections = get_full_connectivity(robot)\n",
    "        r, done = neat_evogym.calculate_reward(ENV, STEPS, robot, connections, controller, config_controller, True)\n",
    "        print(controller.fitness)"
   ]
  },
  {
   "cell_type": "code",
   "execution_count": null,
   "id": "80325f91",
   "metadata": {},
   "outputs": [],
   "source": []
  },
  {
   "cell_type": "code",
   "execution_count": null,
   "id": "bcac7547",
   "metadata": {},
   "outputs": [],
   "source": []
  }
 ],
 "metadata": {
  "kernelspec": {
   "display_name": "Python 3 (ipykernel)",
   "language": "python",
   "name": "python3"
  },
  "language_info": {
   "codemirror_mode": {
    "name": "ipython",
    "version": 3
   },
   "file_extension": ".py",
   "mimetype": "text/x-python",
   "name": "python",
   "nbconvert_exporter": "python",
   "pygments_lexer": "ipython3",
   "version": "3.9.12"
  }
 },
 "nbformat": 4,
 "nbformat_minor": 5
}
