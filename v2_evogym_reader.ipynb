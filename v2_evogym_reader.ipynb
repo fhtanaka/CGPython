{
 "cells": [
  {
   "cell_type": "code",
   "execution_count": 8,
   "id": "35390180",
   "metadata": {},
   "outputs": [],
   "source": [
    "from copyreg import constructor\n",
    "from evogym import is_connected, has_actuator, get_full_connectivity, hashable\n",
    "from evogym.envs import StepsUp, WalkingFlat\n",
    "import struct\n",
    "from typing import List, Tuple\n",
    "import numpy as np\n",
    "import dill\n",
    "from src.graph import Graph\n",
    "from src.evolution_strategies import tournament_selection\n",
    "from src.population import Population\n",
    "from src.arg_parser import parse_args\n",
    "from pygifsicle import optimize\n",
    "import imageio\n",
    "import test"
   ]
  },
  {
   "cell_type": "code",
   "execution_count": 9,
   "id": "704c1056",
   "metadata": {},
   "outputs": [],
   "source": [
    "FILE_PATH = \"results/no_fit_share_01.pkl\"\n",
    "GENERATION = \"99\"\n",
    "ENV = \"StepsUp\" # \"[WalkingFlat, StepsUp]\""
   ]
  },
  {
   "cell_type": "code",
   "execution_count": 10,
   "id": "9269d192",
   "metadata": {},
   "outputs": [
    {
     "ename": "ModuleNotFoundError",
     "evalue": "No module named 'population'",
     "output_type": "error",
     "traceback": [
      "\u001b[0;31m---------------------------------------------------------------------------\u001b[0m",
      "\u001b[0;31mModuleNotFoundError\u001b[0m                       Traceback (most recent call last)",
      "\u001b[0;32m/tmp/ipykernel_16956/2762014655.py\u001b[0m in \u001b[0;36m<module>\u001b[0;34m\u001b[0m\n\u001b[1;32m      1\u001b[0m \u001b[0mstructure_pop\u001b[0m\u001b[0;34m:\u001b[0m \u001b[0mPopulation\u001b[0m \u001b[0;34m=\u001b[0m \u001b[0;32mNone\u001b[0m\u001b[0;34m\u001b[0m\u001b[0;34m\u001b[0m\u001b[0m\n\u001b[1;32m      2\u001b[0m \u001b[0;32mwith\u001b[0m \u001b[0mopen\u001b[0m\u001b[0;34m(\u001b[0m\u001b[0mFILE_PATH\u001b[0m\u001b[0;34m,\u001b[0m \u001b[0;34m\"rb\"\u001b[0m\u001b[0;34m)\u001b[0m \u001b[0;32mas\u001b[0m \u001b[0mfile\u001b[0m\u001b[0;34m:\u001b[0m\u001b[0;34m\u001b[0m\u001b[0;34m\u001b[0m\u001b[0m\n\u001b[0;32m----> 3\u001b[0;31m     \u001b[0mstructure_pop\u001b[0m\u001b[0;34m,\u001b[0m \u001b[0mrobot_dict\u001b[0m \u001b[0;34m=\u001b[0m \u001b[0mdill\u001b[0m\u001b[0;34m.\u001b[0m\u001b[0mload\u001b[0m\u001b[0;34m(\u001b[0m\u001b[0mfile\u001b[0m\u001b[0;34m)\u001b[0m\u001b[0;34m\u001b[0m\u001b[0;34m\u001b[0m\u001b[0m\n\u001b[0m\u001b[1;32m      4\u001b[0m \u001b[0;34m\u001b[0m\u001b[0m\n\u001b[1;32m      5\u001b[0m \u001b[0;32mdef\u001b[0m \u001b[0mget_observation\u001b[0m\u001b[0;34m(\u001b[0m\u001b[0menv\u001b[0m\u001b[0;34m)\u001b[0m\u001b[0;34m:\u001b[0m\u001b[0;34m\u001b[0m\u001b[0;34m\u001b[0m\u001b[0m\n",
      "\u001b[0;32m~/.local/lib/python3.8/site-packages/dill/_dill.py\u001b[0m in \u001b[0;36mload\u001b[0;34m(file, ignore, **kwds)\u001b[0m\n\u001b[1;32m    311\u001b[0m     \u001b[0mSee\u001b[0m \u001b[0;34m:\u001b[0m\u001b[0mfunc\u001b[0m\u001b[0;34m:\u001b[0m\u001b[0;31m`\u001b[0m\u001b[0mloads\u001b[0m\u001b[0;31m`\u001b[0m \u001b[0;32mfor\u001b[0m \u001b[0mkeyword\u001b[0m \u001b[0marguments\u001b[0m\u001b[0;34m.\u001b[0m\u001b[0;34m\u001b[0m\u001b[0;34m\u001b[0m\u001b[0m\n\u001b[1;32m    312\u001b[0m     \"\"\"\n\u001b[0;32m--> 313\u001b[0;31m     \u001b[0;32mreturn\u001b[0m \u001b[0mUnpickler\u001b[0m\u001b[0;34m(\u001b[0m\u001b[0mfile\u001b[0m\u001b[0;34m,\u001b[0m \u001b[0mignore\u001b[0m\u001b[0;34m=\u001b[0m\u001b[0mignore\u001b[0m\u001b[0;34m,\u001b[0m \u001b[0;34m**\u001b[0m\u001b[0mkwds\u001b[0m\u001b[0;34m)\u001b[0m\u001b[0;34m.\u001b[0m\u001b[0mload\u001b[0m\u001b[0;34m(\u001b[0m\u001b[0;34m)\u001b[0m\u001b[0;34m\u001b[0m\u001b[0;34m\u001b[0m\u001b[0m\n\u001b[0m\u001b[1;32m    314\u001b[0m \u001b[0;34m\u001b[0m\u001b[0m\n\u001b[1;32m    315\u001b[0m \u001b[0;32mdef\u001b[0m \u001b[0mloads\u001b[0m\u001b[0;34m(\u001b[0m\u001b[0mstr\u001b[0m\u001b[0;34m,\u001b[0m \u001b[0mignore\u001b[0m\u001b[0;34m=\u001b[0m\u001b[0;32mNone\u001b[0m\u001b[0;34m,\u001b[0m \u001b[0;34m**\u001b[0m\u001b[0mkwds\u001b[0m\u001b[0;34m)\u001b[0m\u001b[0;34m:\u001b[0m\u001b[0;34m\u001b[0m\u001b[0;34m\u001b[0m\u001b[0m\n",
      "\u001b[0;32m~/.local/lib/python3.8/site-packages/dill/_dill.py\u001b[0m in \u001b[0;36mload\u001b[0;34m(self)\u001b[0m\n\u001b[1;32m    523\u001b[0m \u001b[0;34m\u001b[0m\u001b[0m\n\u001b[1;32m    524\u001b[0m     \u001b[0;32mdef\u001b[0m \u001b[0mload\u001b[0m\u001b[0;34m(\u001b[0m\u001b[0mself\u001b[0m\u001b[0;34m)\u001b[0m\u001b[0;34m:\u001b[0m \u001b[0;31m#NOTE: if settings change, need to update attributes\u001b[0m\u001b[0;34m\u001b[0m\u001b[0;34m\u001b[0m\u001b[0m\n\u001b[0;32m--> 525\u001b[0;31m         \u001b[0mobj\u001b[0m \u001b[0;34m=\u001b[0m \u001b[0mStockUnpickler\u001b[0m\u001b[0;34m.\u001b[0m\u001b[0mload\u001b[0m\u001b[0;34m(\u001b[0m\u001b[0mself\u001b[0m\u001b[0;34m)\u001b[0m\u001b[0;34m\u001b[0m\u001b[0;34m\u001b[0m\u001b[0m\n\u001b[0m\u001b[1;32m    526\u001b[0m         \u001b[0;32mif\u001b[0m \u001b[0mtype\u001b[0m\u001b[0;34m(\u001b[0m\u001b[0mobj\u001b[0m\u001b[0;34m)\u001b[0m\u001b[0;34m.\u001b[0m\u001b[0m__module__\u001b[0m \u001b[0;34m==\u001b[0m \u001b[0mgetattr\u001b[0m\u001b[0;34m(\u001b[0m\u001b[0m_main_module\u001b[0m\u001b[0;34m,\u001b[0m \u001b[0;34m'__name__'\u001b[0m\u001b[0;34m,\u001b[0m \u001b[0;34m'__main__'\u001b[0m\u001b[0;34m)\u001b[0m\u001b[0;34m:\u001b[0m\u001b[0;34m\u001b[0m\u001b[0;34m\u001b[0m\u001b[0m\n\u001b[1;32m    527\u001b[0m             \u001b[0;32mif\u001b[0m \u001b[0;32mnot\u001b[0m \u001b[0mself\u001b[0m\u001b[0;34m.\u001b[0m\u001b[0m_ignore\u001b[0m\u001b[0;34m:\u001b[0m\u001b[0;34m\u001b[0m\u001b[0;34m\u001b[0m\u001b[0m\n",
      "\u001b[0;32m~/.local/lib/python3.8/site-packages/dill/_dill.py\u001b[0m in \u001b[0;36mfind_class\u001b[0;34m(self, module, name)\u001b[0m\n\u001b[1;32m    513\u001b[0m             \u001b[0;32mreturn\u001b[0m \u001b[0mtype\u001b[0m\u001b[0;34m(\u001b[0m\u001b[0;32mNone\u001b[0m\u001b[0;34m)\u001b[0m \u001b[0;31m#XXX: special case: NoneType missing\u001b[0m\u001b[0;34m\u001b[0m\u001b[0;34m\u001b[0m\u001b[0m\n\u001b[1;32m    514\u001b[0m         \u001b[0;32mif\u001b[0m \u001b[0mmodule\u001b[0m \u001b[0;34m==\u001b[0m \u001b[0;34m'dill.dill'\u001b[0m\u001b[0;34m:\u001b[0m \u001b[0mmodule\u001b[0m \u001b[0;34m=\u001b[0m \u001b[0;34m'dill._dill'\u001b[0m\u001b[0;34m\u001b[0m\u001b[0;34m\u001b[0m\u001b[0m\n\u001b[0;32m--> 515\u001b[0;31m         \u001b[0;32mreturn\u001b[0m \u001b[0mStockUnpickler\u001b[0m\u001b[0;34m.\u001b[0m\u001b[0mfind_class\u001b[0m\u001b[0;34m(\u001b[0m\u001b[0mself\u001b[0m\u001b[0;34m,\u001b[0m \u001b[0mmodule\u001b[0m\u001b[0;34m,\u001b[0m \u001b[0mname\u001b[0m\u001b[0;34m)\u001b[0m\u001b[0;34m\u001b[0m\u001b[0;34m\u001b[0m\u001b[0m\n\u001b[0m\u001b[1;32m    516\u001b[0m \u001b[0;34m\u001b[0m\u001b[0m\n\u001b[1;32m    517\u001b[0m     \u001b[0;32mdef\u001b[0m \u001b[0m__init__\u001b[0m\u001b[0;34m(\u001b[0m\u001b[0mself\u001b[0m\u001b[0;34m,\u001b[0m \u001b[0;34m*\u001b[0m\u001b[0margs\u001b[0m\u001b[0;34m,\u001b[0m \u001b[0;34m**\u001b[0m\u001b[0mkwds\u001b[0m\u001b[0;34m)\u001b[0m\u001b[0;34m:\u001b[0m\u001b[0;34m\u001b[0m\u001b[0;34m\u001b[0m\u001b[0m\n",
      "\u001b[0;31mModuleNotFoundError\u001b[0m: No module named 'population'"
     ]
    }
   ],
   "source": [
    "structure_pop: Population = None\n",
    "with open(FILE_PATH, \"rb\") as file:\n",
    "    structure_pop, robot_dict = dill.load(file)\n",
    "    \n",
    "def get_observation(env):\n",
    "    a = env.get_vel_com_obs(\"robot\")\n",
    "    b = env.get_pos_com_obs(\"robot\")\n",
    "    c = env.get_floor_obs(\"robot\", [\"ground\"], 5)\n",
    "    return np.concatenate((a, b, c))\n",
    "\n",
    "# def get_observation(env):\n",
    "#     a = env.get_vel_com_obs(\"robot\")\n",
    "#     b = env.get_pos_com_obs(\"robot\")\n",
    "#     return np.concatenate((a, b))\n",
    "    \n",
    "def generate_robot(g: Graph, structure):\n",
    "    robot = np.zeros(structure)\n",
    "    for i in range(structure[0]):\n",
    "        for j in range(structure[1]):\n",
    "            input = (i - (structure[0] // 2),\n",
    "                     j - (structure[1] // 2))\n",
    "            graph_out = g.operate(input)\n",
    "            node = np.argmax(graph_out)\n",
    "            robot[i][j] = node\n",
    "    return robot\n",
    "\n",
    "def get_best_controller(robot, controller_population, n_steps):\n",
    "    robot = generate_robot(design, (5,5))    \n",
    "    connections = get_full_connectivity(robot)\n",
    "\n",
    "    \n",
    "    env = StepsUp(body=robot, connections=connections)\n",
    "    \n",
    "    fitness = []\n",
    "    cont = 0\n",
    "    for controller in controller_population.indvs:\n",
    "        env.reset()\n",
    "        reward = test.calculate_reward(env, controller, 500)\n",
    "        fitness.append((cont, reward, controller.id))\n",
    "        cont += 1\n",
    "        \n",
    "    fitness.sort(key=lambda x: (x[1], x[0]))\n",
    "    \n",
    "    return fitness"
   ]
  },
  {
   "cell_type": "code",
   "execution_count": 9,
   "id": "86968652",
   "metadata": {},
   "outputs": [
    {
     "name": "stdout",
     "output_type": "stream",
     "text": [
      "\t ID \t  Fitness \t Species\n",
      "0:\t 238841\t| 0.0000\t| 987\n",
      "1:\t 377193\t| 0.0000\t| 923\n",
      "2:\t 384408\t| 0.0000\t| 972\n",
      "3:\t 386844\t| 0.0000\t| 976\n",
      "4:\t 386846\t| 0.0000\t| 990\n",
      "5:\t 386848\t| 0.0000\t| 991\n",
      "6:\t 386849\t| 0.0000\t| 986\n",
      "7:\t 386851\t| 0.0000\t| 978\n",
      "8:\t 386853\t| 0.0000\t| 963\n",
      "9:\t 386855\t| 0.0000\t| 986\n",
      "10:\t 386857\t| 0.0000\t| 978\n",
      "11:\t 386859\t| 0.0000\t| 972\n",
      "12:\t 386861\t| 0.0000\t| 985\n",
      "13:\t 386863\t| 0.0000\t| 978\n",
      "14:\t 386865\t| 0.0000\t| 976\n",
      "15:\t 386867\t| 0.0000\t| 979\n",
      "16:\t 386869\t| 0.0000\t| 952\n",
      "17:\t 386871\t| 0.0000\t| 986\n",
      "18:\t 386873\t| 0.0000\t| 978\n",
      "19:\t 386875\t| 0.0000\t| 991\n",
      "20:\t 386876\t| 0.0000\t| 963\n",
      "21:\t 386878\t| 0.0000\t| 972\n",
      "22:\t 386879\t| 0.0000\t| 990\n",
      "23:\t 386881\t| 0.0000\t| 992\n",
      "24:\t 386883\t| 0.0000\t| 976\n",
      "25:\t 386885\t| 0.0000\t| 993\n",
      "26:\t 386887\t| 0.0000\t| 972\n",
      "27:\t 386889\t| 0.0000\t| 923\n",
      "28:\t 386891\t| 0.0000\t| 976\n",
      "29:\t 386893\t| 0.0000\t| 986\n"
     ]
    }
   ],
   "source": [
    "structure_pop.indvs.sort(key=lambda x: (x.original_fit*-1, x.id))\n",
    "cont = 0\n",
    "print(\"\\t ID \\t  Fitness \\t Species\")\n",
    "for design in structure_pop.indvs:\n",
    "    if design.original_fit > -999:\n",
    "       \n",
    "        print(f\"{cont}:\\t {design.id}\\t| {design.original_fit:.4f}\\t| {design.species_id}\")\n",
    "    cont+=1"
   ]
  },
  {
   "cell_type": "code",
   "execution_count": 10,
   "id": "6f9ae8f6",
   "metadata": {},
   "outputs": [],
   "source": [
    "STEPS = 600\n",
    "DESIGN_ID = 0\n",
    "SAVE_GIF = False"
   ]
  },
  {
   "cell_type": "code",
   "execution_count": 12,
   "id": "e63264e9",
   "metadata": {},
   "outputs": [
    {
     "name": "stdout",
     "output_type": "stream",
     "text": [
      "[[3. 3. 1. 1. 1.]\n",
      " [2. 2. 1. 1. 1.]\n",
      " [4. 4. 4. 0. 0.]\n",
      " [3. 3. 4. 0. 0.]\n",
      " [3. 3. 4. 0. 0.]]\n",
      "301468\n",
      "\n",
      "total reward: 4.83391\n",
      "\n"
     ]
    }
   ],
   "source": [
    "design =structure_pop.indvs[DESIGN_ID]\n",
    "\n",
    "robot = generate_robot(design, (5,5))\n",
    "# robot = unhash(\"0002200024000440044400444\", (5,5))\n",
    "connections = get_full_connectivity(robot)\n",
    "print(robot)\n",
    "\n",
    "if ENV == \"StepsUp\":\n",
    "    env = StepsUp(body=robot, connections=connections)\n",
    "else:\n",
    "    env = WalkingFlat(body=robot, connections=connections)\n",
    "\n",
    "\n",
    "env.reset()\n",
    "if not SAVE_GIF:\n",
    "    env.render('screen')\n",
    "\n",
    "controller_pop = robot_dict[hashable(robot)].population\n",
    "controller_pop.indvs.sort(key=lambda x: (x.original_fit*-1, x.id))\n",
    "controller = controller_pop.indvs[0]\n",
    "print(controller.id)\n",
    "\n",
    "reward = 0\n",
    "actuators = env.get_actuator_indices(\"robot\")\n",
    "imgs = []\n",
    "for _ in range(STEPS):\n",
    "    obs = get_observation(env)\n",
    "\n",
    "    action_by_actuator = controller.operate(obs, reset_fit=False)\n",
    "    action = [action_by_actuator[i] for i in actuators]\n",
    "#     action = np.clip(action, .6, 1.6)\n",
    "    _, r, done, _ = env.step(np.array(action))\n",
    "    \n",
    "    if SAVE_GIF:\n",
    "        imgs.append(env.render(mode='img'))\n",
    "    else:\n",
    "        env.render('screen')\n",
    "    reward += r\n",
    "\n",
    "    if done:\n",
    "        print(\"AAA\")\n",
    "        break\n",
    "\n",
    "        \n",
    "print(f'\\ntotal reward: {round(reward, 5)}\\n')\n",
    "env.close()\n",
    "\n",
    "if SAVE_GIF:\n",
    "    print(len(imgs))\n",
    "    imageio.mimsave(f'{ENV}_gen_{GENERATION}_c{CONTROLLER_ID}_d_{DESIGN_ID}.gif', imgs, duration=(1/60))"
   ]
  },
  {
   "cell_type": "code",
   "execution_count": 7,
   "id": "33f81bc4",
   "metadata": {},
   "outputs": [],
   "source": [
    "if SAVE_GIF:\n",
    "    optimize(f'{ENV}_gen_{GENERATION}_c{CONTROLLER_ID}_d_{DESIGN_ID}.gif')"
   ]
  },
  {
   "cell_type": "code",
   "execution_count": 26,
   "id": "80325f91",
   "metadata": {},
   "outputs": [
    {
     "name": "stdout",
     "output_type": "stream",
     "text": [
      "29\n"
     ]
    }
   ],
   "source": [
    "save_top = 20\n",
    "ordered_robots = {k: v for k, v in sorted(robot_dict.items(), key=lambda item: -1*item[1].best_fit)}\n",
    "best_robots = {}\n",
    "cont = 0\n",
    "for k, v in ordered_robots.items():\n",
    "    if cont >= save_top:\n",
    "        break\n",
    "    best_robots[k] = v\n",
    "    cont+=1\n",
    "for indv in structure_pop.indvs:\n",
    "    robot = generate_robot(indv, (5,5))\n",
    "    h = hashable(robot) \n",
    "    if h not in best_robots and h in robot_dict:\n",
    "        best_robots[h] = robot_dict[h]\n",
    "print(len(best_robots))"
   ]
  },
  {
   "cell_type": "code",
   "execution_count": null,
   "id": "bcac7547",
   "metadata": {},
   "outputs": [],
   "source": []
  }
 ],
 "metadata": {
  "kernelspec": {
   "display_name": "Python 3 (ipykernel)",
   "language": "python",
   "name": "python3"
  },
  "language_info": {
   "codemirror_mode": {
    "name": "ipython",
    "version": 3
   },
   "file_extension": ".py",
   "mimetype": "text/x-python",
   "name": "python",
   "nbconvert_exporter": "python",
   "pygments_lexer": "ipython3",
   "version": "3.8.10"
  }
 },
 "nbformat": 4,
 "nbformat_minor": 5
}
