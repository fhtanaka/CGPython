{
 "cells": [
  {
   "cell_type": "code",
   "execution_count": 9,
   "id": "ee3f6957",
   "metadata": {},
   "outputs": [],
   "source": [
    "import numpy as np\n",
    "import dill\n",
    "from src.graph import Graph\n",
    "from src.evolution_strategies import one_plus_lambda, tournament_selection\n",
    "from src.population import Population\n",
    "from src.arg_parser import parse_args\n",
    "from src.diversity_measures import *"
   ]
  },
  {
   "cell_type": "code",
   "execution_count": 22,
   "id": "9c1ff6a4",
   "metadata": {},
   "outputs": [],
   "source": [
    "def addition(x, y): return x+y\n",
    "def multiplication(x, y): return x*y\n",
    "def subtraction(x, y): return x-y\n",
    "def constant(x): return x\n",
    "def protected_div(x, y): return 1 if y == 0 else x/y\n",
    "def increment(x): return x+1\n",
    "def invert(x): return -x\n",
    "\n",
    "Population.add_operation(arity=1, func=constant, string=\"=\")\n",
    "Population.add_operation(arity=1, func=increment, string=\"+1\")\n",
    "Population.add_operation(arity=1, func=invert, string=\"inv\")\n",
    "Population.add_operation(arity=2, func=addition, string=\"+\")\n",
    "Population.add_operation(arity=2, func=multiplication, string=\"*\")\n",
    "Population.add_operation(arity=2, func=subtraction, string=\"-\")\n",
    "Population.add_operation(arity=2, func=protected_div, string=\"/\")"
   ]
  },
  {
   "cell_type": "code",
   "execution_count": 23,
   "id": "c6cdd53b",
   "metadata": {},
   "outputs": [],
   "source": [
    "Population.rng = np.random.RandomState(10)"
   ]
  },
  {
   "cell_type": "code",
   "execution_count": 30,
   "id": "e924bd5d",
   "metadata": {},
   "outputs": [],
   "source": [
    "pop = Population(\n",
    "    population_size = 2,\n",
    "    n_in = 1,\n",
    "    n_out = 1,\n",
    "    n_middle=100\n",
    ")"
   ]
  },
  {
   "cell_type": "code",
   "execution_count": 31,
   "id": "6b8c2fe8",
   "metadata": {},
   "outputs": [],
   "source": [
    "pop_genetic_markers, global_gen_markers = population_genetic_marks(pop)"
   ]
  },
  {
   "cell_type": "code",
   "execution_count": 32,
   "id": "06f69ed6",
   "metadata": {},
   "outputs": [
    {
     "name": "stdout",
     "output_type": "stream",
     "text": [
      "{'= (n_0)': [1, 2], '- (n_0, =)': [1, 0], 'inv (n_0)': [0, 3], '/ (=, -)': [1, 1], '/ (=, n_0)': [1, 1], '- (-, /)': [0, 2], 'inv (/)': [1, 2], '- (inv, inv)': [0, 1], '+ (inv, inv)': [0, 3], '- (n_0, /)': [0, 1], 'inv (inv)': [0, 7], '- (-, inv)': [0, 2], '- (inv, -)': [0, 1], '+ (=, /)': [0, 4], '+1 (-)': [0, 6], '- (+1, inv)': [0, 2], '- (-, -)': [0, 3], '+1 (/)': [0, 4], '= (-)': [0, 6], '+1 (+1)': [0, 4], '- (+1, /)': [0, 1], '/ (-, n_0)': [0, 1], '* (/, inv)': [0, 1], '/ (-, -)': [0, 2], '/ (/, +)': [0, 1], '+ (=, =)': [0, 1], '= (/)': [2, 2], '+1 (inv)': [1, 1], '/ (inv, +1)': [0, 3], '+ (=, n_0)': [0, 1], '* (=, -)': [0, 1], '/ (/, =)': [0, 2], '+ (inv, =)': [0, 1], '* (/, -)': [0, 2], '- (-, =)': [0, 2], '* (-, -)': [0, 1], '+1 (=)': [0, 3], 'inv (-)': [0, 5], '/ (+, /)': [0, 1], '/ (/, +1)': [0, 2], '+ (+, =)': [0, 1], '+ (inv, +)': [0, 1], '+ (/, +1)': [0, 2], '/ (+, -)': [0, 1], 'inv (+)': [0, 4], 'inv (+1)': [1, 2], '= (inv)': [0, 3], '+ (/, -)': [0, 1], '+ (/, inv)': [0, 2], '- (=, -)': [0, 1], '* (+1, =)': [0, 1], '/ (=, /)': [0, 2], '* (+1, +)': [0, 1], '- (-, *)': [0, 3], '+ (+1, =)': [1, 0], '+ (+1, +)': [0, 1], '- (*, -)': [0, 2], 'inv (=)': [0, 4], '+ (inv, /)': [0, 1], '* (-, /)': [0, 2], '= (=)': [0, 2], '/ (+1, +)': [0, 1], '= (+1)': [1, 4], '- (*, *)': [0, 1], '+ (n_0, n_0)': [1, 0], '+1 (n_0)': [1, 0], '* (n_0, +)': [1, 0], '- (+1, +1)': [0, 1], '/ (*, +1)': [0, 1], '- (=, *)': [0, 1], '/ (inv, =)': [1, 0], '- (/, +1)': [0, 1], '- (-, n_0)': [0, 1], '- (inv, +)': [0, 1], '* (+, -)': [0, 1], '+1 (+)': [0, 1], '* (inv, inv)': [0, 1], '+ (-, =)': [0, 1], '/ (-, +)': [0, 1], '* (/, /)': [0, 2], '+ (*, *)': [1, 0], '/ (inv, inv)': [0, 2], 'inv (*)': [0, 1], '- (/, -)': [0, 1], '= (+)': [1, 2], '* (n_0, *)': [0, 1], '+1 (*)': [0, 2], '* (/, +)': [0, 1], '- (*, +)': [0, 1], '+ (=, inv)': [0, 2], '- (*, inv)': [0, 1], '- (+1, +)': [0, 1], '* (-, =)': [0, 1], '+ (n_0, inv)': [0, 1], '+ (-, /)': [0, 1], '/ (-, =)': [0, 1], '+ (+, +)': [0, 1], '= (*)': [1, 2], '- (+1, *)': [0, 1], '* (/, +1)': [0, 1], '* (=, =)': [1, 0], '+ (inv, -)': [0, 2], '/ (-, *)': [0, 2], '+ (inv, +1)': [0, 1], '* (-, inv)': [0, 1], '* (+1, -)': [0, 1], '/ (/, /)': [0, 1], '* (+, *)': [0, 1], '/ (inv, -)': [0, 1], '- (/, /)': [0, 1], '- (+, inv)': [0, 1]}\n",
      "18 103 111\n"
     ]
    }
   ],
   "source": [
    "print(global_gen_markers)\n",
    "active_cont = 0\n",
    "inactive_cont = 0\n",
    "for qtd in global_gen_markers.values():\n",
    "    if qtd[0] > 0:\n",
    "        active_cont += 1\n",
    "    if qtd[1] > 0:\n",
    "        inactive_cont += 1\n",
    "print(active_cont, inactive_cont, len(global_gen_markers))"
   ]
  },
  {
   "cell_type": "code",
   "execution_count": 7,
   "id": "485a84e7",
   "metadata": {},
   "outputs": [
    {
     "name": "stdout",
     "output_type": "stream",
     "text": [
      "         40300102 function calls in 22.890 seconds\n",
      "\n",
      "   Random listing order was used\n",
      "\n",
      "   ncalls  tottime  percall  cumtime  percall filename:lineno(function)\n",
      "  5100000    0.409    0.000    0.409    0.000 {method 'append' of 'list' objects}\n",
      "    50000    0.012    0.000    0.012    0.000 {method 'items' of 'dict' objects}\n",
      " 15100000    0.924    0.000    0.924    0.000 {built-in method builtins.len}\n",
      "        1    0.202    0.202   22.890   22.890 /tmp/ipykernel_12667/3219028410.py:3(exec_func)\n",
      " 10000000    3.116    0.000    3.719    0.000 /home/k1/faculdade/research/cgp/CGPython/src/graph.py:50(decode_operation)\n",
      "  5000000    5.164    0.000    5.164    0.000 /home/k1/faculdade/research/cgp/CGPython/src/node.py:25(<listcomp>)\n",
      "  5000000    1.804    0.000    6.968    0.000 /home/k1/faculdade/research/cgp/CGPython/src/node.py:24(decode_inputs)\n",
      "    50000    9.870    0.000   21.286    0.000 /home/k1/faculdade/research/cgp/CGPython/src/diversity_measures.py:63(graph_genetic_marks)\n",
      "      100    1.389    0.014   22.688    0.227 /home/k1/faculdade/research/cgp/CGPython/src/diversity_measures.py:92(population_genetic_marks)\n",
      "        1    0.000    0.000    0.000    0.000 {method 'disable' of '_lsprof.Profiler' objects}\n",
      "\n",
      "\n",
      "\n"
     ]
    }
   ],
   "source": [
    "import cProfile\n",
    "import pstats\n",
    "def exec_func():\n",
    "    for i in range(100):\n",
    "        population_genetic_marks(pop)\n",
    "profile = cProfile.Profile()\n",
    "profile.runcall(exec_func)\n",
    "ps = pstats.Stats(profile)\n",
    "ps.print_stats()\n",
    "print()"
   ]
  }
 ],
 "metadata": {
  "kernelspec": {
   "display_name": "Python 3 (ipykernel)",
   "language": "python",
   "name": "python3"
  },
  "language_info": {
   "codemirror_mode": {
    "name": "ipython",
    "version": 3
   },
   "file_extension": ".py",
   "mimetype": "text/x-python",
   "name": "python",
   "nbconvert_exporter": "python",
   "pygments_lexer": "ipython3",
   "version": "3.8.10"
  }
 },
 "nbformat": 4,
 "nbformat_minor": 5
}
