{
 "cells": [
  {
   "cell_type": "code",
   "execution_count": 23,
   "id": "6d99f577",
   "metadata": {},
   "outputs": [],
   "source": [
    "import pandas as pd\n",
    "import csv\n",
    "import matplotlib.pyplot as plt\n",
    "import matplotlib.dates as mdates\n",
    "import ipywidgets as widgets\n",
    "import itertools\n",
    "from IPython.display import display\n",
    "\n",
    "plt.rcParams['figure.figsize'] = [14, 8]"
   ]
  },
  {
   "cell_type": "code",
   "execution_count": 38,
   "id": "a027a6df",
   "metadata": {},
   "outputs": [
    {
     "data": {
      "text/html": [
       "<div>\n",
       "<style scoped>\n",
       "    .dataframe tbody tr th:only-of-type {\n",
       "        vertical-align: middle;\n",
       "    }\n",
       "\n",
       "    .dataframe tbody tr th {\n",
       "        vertical-align: top;\n",
       "    }\n",
       "\n",
       "    .dataframe thead th {\n",
       "        text-align: right;\n",
       "    }\n",
       "</style>\n",
       "<table border=\"1\" class=\"dataframe\">\n",
       "  <thead>\n",
       "    <tr style=\"text-align: right;\">\n",
       "      <th></th>\n",
       "      <th>gen</th>\n",
       "      <th>fitness</th>\n",
       "      <th>n_species</th>\n",
       "      <th>p_isomorphisms</th>\n",
       "      <th>unique_fitness</th>\n",
       "      <th>entropy</th>\n",
       "      <th>total_gen_markers</th>\n",
       "      <th>active_gen_markers</th>\n",
       "      <th>inactive_gen_markers</th>\n",
       "      <th>avg_delta</th>\n",
       "      <th>std_delta</th>\n",
       "    </tr>\n",
       "  </thead>\n",
       "  <tbody>\n",
       "    <tr>\n",
       "      <th>0</th>\n",
       "      <td>0</td>\n",
       "      <td>265.274339</td>\n",
       "      <td>100</td>\n",
       "      <td>84</td>\n",
       "      <td>78</td>\n",
       "      <td>6.146112</td>\n",
       "      <td>6260</td>\n",
       "      <td>806</td>\n",
       "      <td>5772</td>\n",
       "      <td>0.832106</td>\n",
       "      <td>0.029323</td>\n",
       "    </tr>\n",
       "    <tr>\n",
       "      <th>1</th>\n",
       "      <td>1</td>\n",
       "      <td>265.274339</td>\n",
       "      <td>69</td>\n",
       "      <td>91</td>\n",
       "      <td>91</td>\n",
       "      <td>6.441210</td>\n",
       "      <td>6177</td>\n",
       "      <td>958</td>\n",
       "      <td>5557</td>\n",
       "      <td>0.819014</td>\n",
       "      <td>0.063549</td>\n",
       "    </tr>\n",
       "  </tbody>\n",
       "</table>\n",
       "</div>"
      ],
      "text/plain": [
       "   gen     fitness  n_species  p_isomorphisms  unique_fitness   entropy  \\\n",
       "0    0  265.274339        100              84              78  6.146112   \n",
       "1    1  265.274339         69              91              91  6.441210   \n",
       "\n",
       "   total_gen_markers  active_gen_markers  inactive_gen_markers  avg_delta  \\\n",
       "0               6260                 806                  5772   0.832106   \n",
       "1               6177                 958                  5557   0.819014   \n",
       "\n",
       "   std_delta  \n",
       "0   0.029323  \n",
       "1   0.063549  "
      ]
     },
     "execution_count": 38,
     "metadata": {},
     "output_type": "execute_result"
    }
   ],
   "source": [
    "base_path = \"results/\"\n",
    "folders= [\"share\", \"no_share\"]\n",
    "tests= [\n",
    "#     \"multiplexer\", \n",
    "#     \"parity\", \n",
    "#     \"regression\", \n",
    "    \"old_regression\", \n",
    "#     \"older_regression\", \n",
    "#     \"multiplexer_n1000\", \n",
    "#     \"parity_n1000\",\n",
    "#     \"regression_n1000\"\n",
    "    \"tmp\"\n",
    "]\n",
    "# tests= [\"multiplexer_n1000\", \"parity_n1000\", \"regression_n1000\"]\n",
    "# runs = [\"1\", \"2\", \"3\", \"4\", \"5\"]\n",
    "runs = [\"1\"]\n",
    "\n",
    "col_names = []\n",
    "\n",
    "dfs = {}\n",
    "for t in tests: \n",
    "    dfs[t] = {}\n",
    "    for f in folders:\n",
    "        dfs[t][f] = []\n",
    "        for r in runs:\n",
    "#             file_name = base_path + f + \"/diversity_\" + t + \"_\"+ r + \"_n1000.csv\"\n",
    "            file_name = base_path + f + \"/diversity_\" + t + \"_\" + r  + \".csv\"\n",
    "            df = pd.read_csv(file_name, sep=';')\n",
    "            dfs[t][f].append(df)\n",
    "            col_names = df.columns[1:]\n",
    "            \n",
    "dfs[t][f][0].head(2)"
   ]
  },
  {
   "cell_type": "code",
   "execution_count": 39,
   "id": "8fd93b66",
   "metadata": {},
   "outputs": [],
   "source": [
    "def normalize_column(df, c_name):\n",
    "    c = df[c_name]\n",
    "    df[c_name] = (c-c.min())/(c.max()-c.min())"
   ]
  },
  {
   "cell_type": "code",
   "execution_count": 40,
   "id": "f1da9a00",
   "metadata": {},
   "outputs": [],
   "source": [
    "def plot_graphs(dfs, test_name, gen_range, cols):\n",
    "    for k, v in dfs[test_name].items():\n",
    "        host = True\n",
    "        for column in cols:\n",
    "            full_data = [d[column] for d in v]\n",
    "            \n",
    "            data = []\n",
    "            for d in itertools.zip_longest(*full_data, fillvalue = 0):\n",
    "                data.append(d)\n",
    "                \n",
    "            start = min(gen_range[0], len(data))\n",
    "            finish = min(gen_range[1], len(data))\n",
    "            steps = [i for i in range(start, finish)]\n",
    "            \n",
    "            data = data[start:finish]\n",
    "            avg_arr = [sum(d)/len(d) for d in data]\n",
    "            min_arr = [min(d) for d in data]\n",
    "            max_arr = [max(d) for d in data]\n",
    "\n",
    "            plt.plot(steps, avg_arr, lw =1.3, label=f\"{k} {column}\")\n",
    "            plt.fill_between(steps, min_arr,max_arr, alpha = 0.15)\n",
    "\n",
    "    plt.legend(loc=\"upper left\")\n",
    "    plt.show()"
   ]
  },
  {
   "cell_type": "code",
   "execution_count": 41,
   "id": "3a50f9ee",
   "metadata": {},
   "outputs": [],
   "source": [
    "test = widgets.ToggleButtons(\n",
    "    options=tests,\n",
    "    description='Test:',\n",
    "    disabled=False,\n",
    "    button_style='',\n",
    ")\n",
    "\n",
    "gen_range = widgets.IntRangeSlider(\n",
    "    value=[10, 1000],\n",
    "    min=10,\n",
    "    max=1000,\n",
    "    step=10,\n",
    "    description='Generations:',\n",
    "    disabled=False,\n",
    "    continuous_update=False,\n",
    "    orientation='horizontal',\n",
    "    readout=True,\n",
    "    readout_format='d',\n",
    ")\n",
    "\n",
    "parameters = []\n",
    "for col in col_names:\n",
    "    cb = widgets.Checkbox(\n",
    "        value=False,\n",
    "        description=col,\n",
    "        disabled=False,\n",
    "        indent=False\n",
    "    )\n",
    "    parameters.append(cb)\n",
    "    \n",
    "button = widgets.Button(description=\"Render Graph\")\n",
    "output = widgets.Output()\n",
    "\n",
    "def on_button_clicked(b):\n",
    "    with output:\n",
    "        cols = [p.description for p in parameters if p.value]\n",
    "        if len(cols) > 0:\n",
    "            plot_graphs(dfs, test.value, gen_range.value, cols)\n",
    "\n",
    "button.on_click(on_button_clicked)"
   ]
  },
  {
   "cell_type": "code",
   "execution_count": 42,
   "id": "81040cfc",
   "metadata": {},
   "outputs": [
    {
     "data": {
      "application/vnd.jupyter.widget-view+json": {
       "model_id": "b36b927f703943fe94e0509850288b27",
       "version_major": 2,
       "version_minor": 0
      },
      "text/plain": [
       "ToggleButtons(description='Test:', options=('old_regression', 'tmp'), value='old_regression')"
      ]
     },
     "metadata": {},
     "output_type": "display_data"
    },
    {
     "data": {
      "application/vnd.jupyter.widget-view+json": {
       "model_id": "bd0be55258244a36998af70487930fb0",
       "version_major": 2,
       "version_minor": 0
      },
      "text/plain": [
       "IntRangeSlider(value=(10, 1000), continuous_update=False, description='Generations:', max=1000, min=10, step=1…"
      ]
     },
     "metadata": {},
     "output_type": "display_data"
    },
    {
     "data": {
      "application/vnd.jupyter.widget-view+json": {
       "model_id": "f52ae47547c54e19970ff4b386ed4fa3",
       "version_major": 2,
       "version_minor": 0
      },
      "text/plain": [
       "HBox(children=(Checkbox(value=False, description='fitness', indent=False), Checkbox(value=False, description='…"
      ]
     },
     "metadata": {},
     "output_type": "display_data"
    },
    {
     "data": {
      "application/vnd.jupyter.widget-view+json": {
       "model_id": "d79e3da79a364c11a9e1c7cad5ddf22e",
       "version_major": 2,
       "version_minor": 0
      },
      "text/plain": [
       "HBox(children=(Checkbox(value=False, description='total_gen_markers', indent=False), Checkbox(value=False, des…"
      ]
     },
     "metadata": {},
     "output_type": "display_data"
    },
    {
     "data": {
      "application/vnd.jupyter.widget-view+json": {
       "model_id": "059562da73c5406a9f7849bc2bd07035",
       "version_major": 2,
       "version_minor": 0
      },
      "text/plain": [
       "Button(description='Render Graph', style=ButtonStyle())"
      ]
     },
     "metadata": {},
     "output_type": "display_data"
    },
    {
     "data": {
      "application/vnd.jupyter.widget-view+json": {
       "model_id": "853eff1bb9a24203a417e9a78198e7db",
       "version_major": 2,
       "version_minor": 0
      },
      "text/plain": [
       "Output()"
      ]
     },
     "metadata": {},
     "output_type": "display_data"
    }
   ],
   "source": [
    "display(test)\n",
    "display(gen_range)\n",
    "\n",
    "half_len = len(parameters)//2\n",
    "input_widgets_1 = widgets.HBox(parameters[:half_len])\n",
    "display(input_widgets_1)\n",
    "input_widgets_2 = widgets.HBox(parameters[half_len:])\n",
    "display(input_widgets_2)\n",
    "\n",
    "display(button, output)"
   ]
  },
  {
   "cell_type": "code",
   "execution_count": null,
   "id": "c9d84832",
   "metadata": {},
   "outputs": [],
   "source": []
  }
 ],
 "metadata": {
  "kernelspec": {
   "display_name": "Python 3 (ipykernel)",
   "language": "python",
   "name": "python3"
  },
  "language_info": {
   "codemirror_mode": {
    "name": "ipython",
    "version": 3
   },
   "file_extension": ".py",
   "mimetype": "text/x-python",
   "name": "python",
   "nbconvert_exporter": "python",
   "pygments_lexer": "ipython3",
   "version": "3.9.7"
  }
 },
 "nbformat": 4,
 "nbformat_minor": 5
}
