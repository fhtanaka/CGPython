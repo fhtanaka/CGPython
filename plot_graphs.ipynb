{
 "cells": [
  {
   "cell_type": "code",
   "execution_count": 1,
   "id": "6d99f577",
   "metadata": {},
   "outputs": [],
   "source": [
    "import pandas as pd\n",
    "import csv\n",
    "import matplotlib.pyplot as plt\n",
    "import matplotlib.dates as mdates\n",
    "import ipywidgets as widgets\n",
    "from IPython.display import display"
   ]
  },
  {
   "cell_type": "code",
   "execution_count": 2,
   "id": "a027a6df",
   "metadata": {},
   "outputs": [
    {
     "data": {
      "text/html": [
       "<div>\n",
       "<style scoped>\n",
       "    .dataframe tbody tr th:only-of-type {\n",
       "        vertical-align: middle;\n",
       "    }\n",
       "\n",
       "    .dataframe tbody tr th {\n",
       "        vertical-align: top;\n",
       "    }\n",
       "\n",
       "    .dataframe thead th {\n",
       "        text-align: right;\n",
       "    }\n",
       "</style>\n",
       "<table border=\"1\" class=\"dataframe\">\n",
       "  <thead>\n",
       "    <tr style=\"text-align: right;\">\n",
       "      <th></th>\n",
       "      <th>gen</th>\n",
       "      <th>fitness</th>\n",
       "      <th>n_species</th>\n",
       "      <th>p_isomorphisms</th>\n",
       "      <th>unique_fitness</th>\n",
       "      <th>entropy</th>\n",
       "      <th>total_gen_markers</th>\n",
       "      <th>active_gen_markers</th>\n",
       "      <th>inactive_gen_markers</th>\n",
       "      <th>avg_delta</th>\n",
       "      <th>std_delta</th>\n",
       "    </tr>\n",
       "  </thead>\n",
       "  <tbody>\n",
       "    <tr>\n",
       "      <th>0</th>\n",
       "      <td>0</td>\n",
       "      <td>93.238610</td>\n",
       "      <td>9</td>\n",
       "      <td>282</td>\n",
       "      <td>24</td>\n",
       "      <td>0.409743</td>\n",
       "      <td>39219</td>\n",
       "      <td>3893</td>\n",
       "      <td>37508</td>\n",
       "      <td>0.792692</td>\n",
       "      <td>0.022616</td>\n",
       "    </tr>\n",
       "    <tr>\n",
       "      <th>1</th>\n",
       "      <td>1</td>\n",
       "      <td>78.657057</td>\n",
       "      <td>11</td>\n",
       "      <td>285</td>\n",
       "      <td>23</td>\n",
       "      <td>0.476600</td>\n",
       "      <td>38812</td>\n",
       "      <td>3663</td>\n",
       "      <td>37301</td>\n",
       "      <td>0.785470</td>\n",
       "      <td>0.031752</td>\n",
       "    </tr>\n",
       "  </tbody>\n",
       "</table>\n",
       "</div>"
      ],
      "text/plain": [
       "   gen    fitness  n_species  p_isomorphisms  unique_fitness   entropy  \\\n",
       "0    0  93.238610          9             282              24  0.409743   \n",
       "1    1  78.657057         11             285              23  0.476600   \n",
       "\n",
       "   total_gen_markers  active_gen_markers  inactive_gen_markers  avg_delta  \\\n",
       "0              39219                3893                 37508   0.792692   \n",
       "1              38812                3663                 37301   0.785470   \n",
       "\n",
       "   std_delta  \n",
       "0   0.022616  \n",
       "1   0.031752  "
      ]
     },
     "execution_count": 2,
     "metadata": {},
     "output_type": "execute_result"
    }
   ],
   "source": [
    "base_path = \"results/\"\n",
    "folders= [\"share\", \"no_share\"]\n",
    "tests= [\"multiplexer\", \"parity\", \"regression\", \"old_regression\"]\n",
    "# tests= [\"multiplexer\", \"parity\", \"regression\"]\n",
    "runs = [\"1\", \"2\", \"3\", \"4\", \"5\"]\n",
    "col_names = []\n",
    "\n",
    "dfs = {}\n",
    "for t in tests: \n",
    "    dfs[t] = {}\n",
    "    for f in folders:\n",
    "        dfs[t][f] = []\n",
    "        for r in runs:\n",
    "#             file_name = base_path + f + \"/diversity_\" + t + \"_\"+ r + \"_n1000.csv\"\n",
    "            file_name = base_path + f + \"/diversity_\" + t + \"_\" + r  + \".csv\"\n",
    "            df = pd.read_csv(file_name, sep=';')\n",
    "            dfs[t][f].append(df)\n",
    "            col_names = df.columns[1:]\n",
    "            \n",
    "dfs[t][f][0].head(2)"
   ]
  },
  {
   "cell_type": "code",
   "execution_count": 3,
   "id": "8fd93b66",
   "metadata": {},
   "outputs": [],
   "source": [
    "def normalize_column(df, c_name):\n",
    "    c = df[c_name]\n",
    "    df[c_name] = (c-c.min())/(c.max()-c.min())"
   ]
  },
  {
   "cell_type": "code",
   "execution_count": 4,
   "id": "e1c654e1",
   "metadata": {},
   "outputs": [],
   "source": [
    "def plot_graphs(dfs, test_name, gen_range, cols):\n",
    "    for k, v in dfs[test_name].items():\n",
    "#     if k == \"share\":\n",
    "#         continue\n",
    "        for column in cols:\n",
    "            full_data = [d[column] for d in v]\n",
    "            data = []\n",
    "            for d in zip(*full_data):\n",
    "                data.append(d)\n",
    "            data = data[gen_range[0]:gen_range[1]]\n",
    "            avg_arr = [sum(d)/len(d) for d in data]\n",
    "            min_arr = [min(d) for d in data]\n",
    "            max_arr = [max(d) for d in data]\n",
    "            steps = [i for i in range(gen_range[0], gen_range[1])]\n",
    "            plt.plot(steps, avg_arr, lw =1.3, label=f\"{k} {column}\")\n",
    "            plt.fill_between(steps, min_arr,max_arr, alpha = 0.15)\n",
    "\n",
    "    plt.rcParams['figure.figsize'] = [14, 8]\n",
    "    plt.legend(loc=\"upper left\")\n",
    "    plt.show(block=False)"
   ]
  },
  {
   "cell_type": "code",
   "execution_count": 9,
   "id": "3a50f9ee",
   "metadata": {},
   "outputs": [
    {
     "data": {
      "application/vnd.jupyter.widget-view+json": {
       "model_id": "4ec4f73c771643adbc08e94247a8d7ad",
       "version_major": 2,
       "version_minor": 0
      },
      "text/plain": [
       "ToggleButtons(description='Test:', options=('multiplexer', 'parity', 'regression', 'old_regression'), value='m…"
      ]
     },
     "metadata": {},
     "output_type": "display_data"
    },
    {
     "data": {
      "application/vnd.jupyter.widget-view+json": {
       "model_id": "2266936c2e0e41dc839a0e143044cd8a",
       "version_major": 2,
       "version_minor": 0
      },
      "text/plain": [
       "IntRangeSlider(value=(10, 999), continuous_update=False, description='Generations:', max=999, step=10)"
      ]
     },
     "metadata": {},
     "output_type": "display_data"
    },
    {
     "data": {
      "application/vnd.jupyter.widget-view+json": {
       "model_id": "e0c8ee2a59d043318870dbce3f91bdcc",
       "version_major": 2,
       "version_minor": 0
      },
      "text/plain": [
       "HBox(children=(Checkbox(value=False, description='fitness', indent=False), Checkbox(value=False, description='…"
      ]
     },
     "metadata": {},
     "output_type": "display_data"
    },
    {
     "data": {
      "application/vnd.jupyter.widget-view+json": {
       "model_id": "290184fc4fee489cb7aa719966a98692",
       "version_major": 2,
       "version_minor": 0
      },
      "text/plain": [
       "HBox(children=(Checkbox(value=False, description='total_gen_markers', indent=False), Checkbox(value=False, des…"
      ]
     },
     "metadata": {},
     "output_type": "display_data"
    },
    {
     "data": {
      "application/vnd.jupyter.widget-view+json": {
       "model_id": "0fe6a3d682c04b55b0d0b24c73cdb7d8",
       "version_major": 2,
       "version_minor": 0
      },
      "text/plain": [
       "Button(description='Render Graph', style=ButtonStyle())"
      ]
     },
     "metadata": {},
     "output_type": "display_data"
    },
    {
     "data": {
      "application/vnd.jupyter.widget-view+json": {
       "model_id": "51fbbba25c4248e4a95e44ae0f926028",
       "version_major": 2,
       "version_minor": 0
      },
      "text/plain": [
       "Output()"
      ]
     },
     "metadata": {},
     "output_type": "display_data"
    }
   ],
   "source": [
    "test = widgets.ToggleButtons(\n",
    "    options=tests,\n",
    "    description='Test:',\n",
    "    disabled=False,\n",
    "    button_style='',\n",
    ")\n",
    "\n",
    "gen_range = widgets.IntRangeSlider(\n",
    "    value=[10, 999],\n",
    "    min=0,\n",
    "    max=999,\n",
    "    step=10,\n",
    "    description='Generations:',\n",
    "    disabled=False,\n",
    "    continuous_update=False,\n",
    "    orientation='horizontal',\n",
    "    readout=True,\n",
    "    readout_format='d',\n",
    ")\n",
    "\n",
    "parameters = []\n",
    "for col in col_names:\n",
    "    cb = widgets.Checkbox(\n",
    "        value=False,\n",
    "        description=col,\n",
    "        disabled=False,\n",
    "        indent=False\n",
    "    )\n",
    "    parameters.append(cb)\n",
    "\n",
    "    \n",
    "    \n",
    "display(test)\n",
    "display(gen_range)\n",
    "\n",
    "half_len = len(parameters)//2\n",
    "input_widgets_1 = widgets.HBox(parameters[:half_len])\n",
    "display(input_widgets_1)\n",
    "input_widgets_2 = widgets.HBox(parameters[half_len:])\n",
    "display(input_widgets_2)\n",
    "\n",
    "button = widgets.Button(description=\"Render Graph\")\n",
    "output = widgets.Output()\n",
    "display(button, output)\n",
    "\n",
    "def on_button_clicked(b):\n",
    "    with output:\n",
    "        cols = [p.description for p in parameters if p.value]\n",
    "        if len(cols) > 0:\n",
    "            plot_graphs(dfs, test.value, gen_range.value, cols)\n",
    "\n",
    "button.on_click(on_button_clicked)\n"
   ]
  },
  {
   "cell_type": "code",
   "execution_count": null,
   "id": "81040cfc",
   "metadata": {},
   "outputs": [],
   "source": []
  }
 ],
 "metadata": {
  "kernelspec": {
   "display_name": "Python 3 (ipykernel)",
   "language": "python",
   "name": "python3"
  },
  "language_info": {
   "codemirror_mode": {
    "name": "ipython",
    "version": 3
   },
   "file_extension": ".py",
   "mimetype": "text/x-python",
   "name": "python",
   "nbconvert_exporter": "python",
   "pygments_lexer": "ipython3",
   "version": "3.9.7"
  }
 },
 "nbformat": 4,
 "nbformat_minor": 5
}
