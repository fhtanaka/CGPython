{
 "cells": [
  {
   "cell_type": "code",
   "execution_count": 1,
   "id": "7cc03d0c",
   "metadata": {},
   "outputs": [],
   "source": [
    "import pandas as pd\n",
    "import csv\n",
    "import matplotlib.pyplot as plt\n",
    "import matplotlib.dates as mdates"
   ]
  },
  {
   "cell_type": "code",
   "execution_count": 37,
   "id": "7b276d6f",
   "metadata": {},
   "outputs": [
    {
     "data": {
      "text/html": [
       "<div>\n",
       "<style scoped>\n",
       "    .dataframe tbody tr th:only-of-type {\n",
       "        vertical-align: middle;\n",
       "    }\n",
       "\n",
       "    .dataframe tbody tr th {\n",
       "        vertical-align: top;\n",
       "    }\n",
       "\n",
       "    .dataframe thead th {\n",
       "        text-align: right;\n",
       "    }\n",
       "</style>\n",
       "<table border=\"1\" class=\"dataframe\">\n",
       "  <thead>\n",
       "    <tr style=\"text-align: right;\">\n",
       "      <th></th>\n",
       "      <th>gen</th>\n",
       "      <th>fitness</th>\n",
       "      <th>n_species</th>\n",
       "      <th>p_isomorphisms</th>\n",
       "      <th>unique_fitness</th>\n",
       "      <th>entropy</th>\n",
       "      <th>total_gen_markers</th>\n",
       "      <th>active_gen_markers</th>\n",
       "      <th>inactive_gen_markers</th>\n",
       "      <th>avg_delta</th>\n",
       "      <th>std_delta</th>\n",
       "    </tr>\n",
       "  </thead>\n",
       "  <tbody>\n",
       "    <tr>\n",
       "      <th>0</th>\n",
       "      <td>0</td>\n",
       "      <td>0.625000</td>\n",
       "      <td>18</td>\n",
       "      <td>129</td>\n",
       "      <td>36</td>\n",
       "      <td>3.441615</td>\n",
       "      <td>17765</td>\n",
       "      <td>1209</td>\n",
       "      <td>16932</td>\n",
       "      <td>0.713285</td>\n",
       "      <td>0.032240</td>\n",
       "    </tr>\n",
       "    <tr>\n",
       "      <th>1</th>\n",
       "      <td>1</td>\n",
       "      <td>0.640625</td>\n",
       "      <td>8</td>\n",
       "      <td>120</td>\n",
       "      <td>37</td>\n",
       "      <td>3.820204</td>\n",
       "      <td>15305</td>\n",
       "      <td>1116</td>\n",
       "      <td>14591</td>\n",
       "      <td>0.693777</td>\n",
       "      <td>0.034758</td>\n",
       "    </tr>\n",
       "    <tr>\n",
       "      <th>2</th>\n",
       "      <td>2</td>\n",
       "      <td>0.671875</td>\n",
       "      <td>7</td>\n",
       "      <td>131</td>\n",
       "      <td>38</td>\n",
       "      <td>3.896147</td>\n",
       "      <td>13951</td>\n",
       "      <td>1111</td>\n",
       "      <td>13271</td>\n",
       "      <td>0.671831</td>\n",
       "      <td>0.067167</td>\n",
       "    </tr>\n",
       "  </tbody>\n",
       "</table>\n",
       "</div>"
      ],
      "text/plain": [
       "   gen   fitness  n_species  p_isomorphisms  unique_fitness   entropy  \\\n",
       "0    0  0.625000         18             129              36  3.441615   \n",
       "1    1  0.640625          8             120              37  3.820204   \n",
       "2    2  0.671875          7             131              38  3.896147   \n",
       "\n",
       "   total_gen_markers  active_gen_markers  inactive_gen_markers  avg_delta  \\\n",
       "0              17765                1209                 16932   0.713285   \n",
       "1              15305                1116                 14591   0.693777   \n",
       "2              13951                1111                 13271   0.671831   \n",
       "\n",
       "   std_delta  \n",
       "0   0.032240  \n",
       "1   0.034758  \n",
       "2   0.067167  "
      ]
     },
     "execution_count": 37,
     "metadata": {},
     "output_type": "execute_result"
    }
   ],
   "source": [
    "df = pd.read_csv ('results2/diversity_multiplexer_0.csv', sep=';')\n",
    "df.head(3)"
   ]
  },
  {
   "cell_type": "code",
   "execution_count": 38,
   "id": "68528467",
   "metadata": {},
   "outputs": [],
   "source": [
    "def normalize_column(df, c_name):\n",
    "    c = df[c_name]\n",
    "    df[c_name] = (c-c.min())/(c.max()-c.min())"
   ]
  },
  {
   "cell_type": "code",
   "execution_count": 53,
   "id": "2bf9bbbd",
   "metadata": {},
   "outputs": [
    {
     "data": {
      "text/plain": [
       "<AxesSubplot:>"
      ]
     },
     "execution_count": 53,
     "metadata": {},
     "output_type": "execute_result"
    },
    {
     "data": {
      "image/png": "[encoded data removed]",
      "text/plain": [
       "<Figure size 432x288 with 1 Axes>"
      ]
     },
     "metadata": {
      "needs_background": "light"
     },
     "output_type": "display_data"
    }
   ],
   "source": [
    "cols = [\"n_species\"]\n",
    "ylim=(df[\"fitness\"].min(),1)\n",
    "df[cols].plot()"
   ]
  },
  {
   "cell_type": "code",
   "execution_count": null,
   "id": "d6b9d380",
   "metadata": {},
   "outputs": [],
   "source": []
  }
 ],
 "metadata": {
  "kernelspec": {
   "display_name": "Python 3 (ipykernel)",
   "language": "python",
   "name": "python3"
  },
  "language_info": {
   "codemirror_mode": {
    "name": "ipython",
    "version": 3
   },
   "file_extension": ".py",
   "mimetype": "text/x-python",
   "name": "python",
   "nbconvert_exporter": "python",
   "pygments_lexer": "ipython3",
   "version": "3.9.7"
  }
 },
 "nbformat": 4,
 "nbformat_minor": 5
}
