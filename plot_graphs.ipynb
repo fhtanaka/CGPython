{
 "cells": [
  {
   "cell_type": "code",
   "execution_count": null,
   "id": "6a11b8db",
   "metadata": {},
   "outputs": [],
   "source": [
    "import pandas as pd\n",
    "import csv\n",
    "import matplotlib.pyplot as plt\n",
    "import matplotlib.dates as mdates\n",
    "import ipywidgets as widgets\n",
    "import itertools\n",
    "from IPython.display import display\n",
    "\n",
    "plt.rcParams['figure.figsize'] = [14, 8]"
   ]
  },
  {
   "cell_type": "code",
   "execution_count": 17,
   "id": "3448ba8b",
   "metadata": {},
   "outputs": [
    {
     "data": {
      "text/html": [
       "<div>\n",
       "<style scoped>\n",
       "    .dataframe tbody tr th:only-of-type {\n",
       "        vertical-align: middle;\n",
       "    }\n",
       "\n",
       "    .dataframe tbody tr th {\n",
       "        vertical-align: top;\n",
       "    }\n",
       "\n",
       "    .dataframe thead th {\n",
       "        text-align: right;\n",
       "    }\n",
       "</style>\n",
       "<table border=\"1\" class=\"dataframe\">\n",
       "  <thead>\n",
       "    <tr style=\"text-align: right;\">\n",
       "      <th></th>\n",
       "      <th>gen</th>\n",
       "      <th>fitness</th>\n",
       "      <th>n_species</th>\n",
       "      <th>p_isomorphisms</th>\n",
       "      <th>unique_fitness</th>\n",
       "      <th>entropy</th>\n",
       "      <th>total_gen_markers</th>\n",
       "      <th>active_gen_markers</th>\n",
       "      <th>inactive_gen_markers</th>\n",
       "      <th>avg_delta</th>\n",
       "      <th>std_delta</th>\n",
       "    </tr>\n",
       "  </thead>\n",
       "  <tbody>\n",
       "    <tr>\n",
       "      <th>0</th>\n",
       "      <td>0</td>\n",
       "      <td>9.259512</td>\n",
       "      <td>421</td>\n",
       "      <td>246</td>\n",
       "      <td>79.0</td>\n",
       "      <td>5.832377</td>\n",
       "      <td>26553.0</td>\n",
       "      <td>3010.0</td>\n",
       "      <td>24734.0</td>\n",
       "      <td>0.736030</td>\n",
       "      <td>0.026661</td>\n",
       "    </tr>\n",
       "    <tr>\n",
       "      <th>1</th>\n",
       "      <td>1</td>\n",
       "      <td>5.684596</td>\n",
       "      <td>189</td>\n",
       "      <td>259</td>\n",
       "      <td>83.0</td>\n",
       "      <td>5.946469</td>\n",
       "      <td>27111.0</td>\n",
       "      <td>3018.0</td>\n",
       "      <td>25321.0</td>\n",
       "      <td>0.726626</td>\n",
       "      <td>0.034749</td>\n",
       "    </tr>\n",
       "  </tbody>\n",
       "</table>\n",
       "</div>"
      ],
      "text/plain": [
       "   gen   fitness  n_species  p_isomorphisms  unique_fitness   entropy  \\\n",
       "0    0  9.259512        421             246            79.0  5.832377   \n",
       "1    1  5.684596        189             259            83.0  5.946469   \n",
       "\n",
       "   total_gen_markers  active_gen_markers  inactive_gen_markers  avg_delta  \\\n",
       "0            26553.0              3010.0               24734.0   0.736030   \n",
       "1            27111.0              3018.0               25321.0   0.726626   \n",
       "\n",
       "   std_delta  \n",
       "0   0.026661  \n",
       "1   0.034749  "
      ]
     },
     "execution_count": 17,
     "metadata": {},
     "output_type": "execute_result"
    }
   ],
   "source": [
    "base_path = \"results/\"\n",
    "folders= [\"share\", \"no_share\"]\n",
    "tests= [\n",
    "    \"multiplexer\", \n",
    "    \"parity\", \n",
    "    \"regression\", \n",
    "    \"multiplexer_n1000\", \n",
    "    \"parity_n1000\",\n",
    "    \"regression_n1000\",\n",
    "    \"multiplexer_v2\",\n",
    "    \"parity_v2\",\n",
    "    \"regression_v2\", \n",
    "    \"old_regression\", \n",
    "    \"older_regression\",\n",
    "    \"gym\",\n",
    "]\n",
    "runs = [\"1\", \"2\", \"3\", \"4\", \"5\"]\n",
    "\n",
    "col_names = []\n",
    "\n",
    "dfs = {}\n",
    "for t in tests: \n",
    "    dfs[t] = {}\n",
    "    for f in folders:\n",
    "        dfs[t][f] = []\n",
    "        for r in runs:\n",
    "            file_name = base_path + f + \"/diversity_\" + t + \"_\" + r  + \".csv\"\n",
    "#             print(file_name)\n",
    "            df = pd.read_csv(file_name, sep=';')\n",
    "            dfs[t][f].append(df)\n",
    "            col_names = df.columns[1:]\n",
    "            \n",
    "dfs[t][f][0].head(2)"
   ]
  },
  {
   "cell_type": "code",
   "execution_count": 18,
   "id": "4250fc05",
   "metadata": {},
   "outputs": [],
   "source": [
    "def normalize_column(df, c_name):\n",
    "    c = df[c_name]\n",
    "    df[c_name] = (c-c.min())/(c.max()-c.min())"
   ]
  },
  {
   "cell_type": "code",
   "execution_count": 19,
   "id": "20795a61",
   "metadata": {},
   "outputs": [],
   "source": [
    "def plot_graphs(dfs, test_name, gen_range, cols, method):\n",
    "    for k, v in dfs[test_name].items():\n",
    "        flag = False\n",
    "        for m in method:\n",
    "            if k == m.description and m.value == False:\n",
    "                flag = True\n",
    "                break\n",
    "        if flag: \n",
    "            continue\n",
    "        for column in cols:\n",
    "            full_data = [d[column] for d in v]\n",
    "            \n",
    "            data = []\n",
    "            for d in itertools.zip_longest(*full_data, fillvalue = 0):\n",
    "                data.append(d)\n",
    "                \n",
    "            start = min(gen_range[0], len(data))\n",
    "            finish = min(gen_range[1], len(data))\n",
    "            steps = [i for i in range(start, finish)]\n",
    "            \n",
    "            data = data[start:finish]\n",
    "            avg_arr = [sum(d)/len(d) for d in data]\n",
    "            min_arr = [min(d) for d in data]\n",
    "            max_arr = [max(d) for d in data]\n",
    "\n",
    "            plt.plot(steps, avg_arr, lw =1.3, label=f\"{k} {column}\")\n",
    "            plt.fill_between(steps, min_arr,max_arr, alpha = 0.15)\n",
    "\n",
    "    plt.legend(loc=\"upper left\")\n",
    "    plt.show()"
   ]
  },
  {
   "cell_type": "code",
   "execution_count": 24,
   "id": "494b0aaa",
   "metadata": {},
   "outputs": [],
   "source": [
    "test = widgets.ToggleButtons(\n",
    "    options=tests,\n",
    "    description='Test:',\n",
    "    disabled=False,\n",
    "    button_style='',\n",
    "    indent=True\n",
    ")\n",
    "\n",
    "share_method = widgets.ToggleButton(\n",
    "    value=True,\n",
    "    description='share',\n",
    "    disabled=False,\n",
    "    button_style='', \n",
    "    tooltip='Description',\n",
    ")\n",
    "no_share_method = widgets.ToggleButton(\n",
    "    value=True,\n",
    "    description='no_share',\n",
    "    disabled=False,\n",
    "    button_style='',\n",
    "    tooltip='Description',\n",
    ")\n",
    "method = [share_method, no_share_method]\n",
    "\n",
    "\n",
    "gen_range = widgets.IntRangeSlider(\n",
    "    value=[10, 1000],\n",
    "    min=0,\n",
    "    max=1000,\n",
    "    step=10,\n",
    "    description='Generations:',\n",
    "    disabled=False,\n",
    "    continuous_update=False,\n",
    "    orientation='horizontal',\n",
    "    readout=True,\n",
    "    readout_format='d',\n",
    ")\n",
    "\n",
    "parameters = []\n",
    "for col in col_names:\n",
    "    cb = widgets.Checkbox(\n",
    "        value=False,\n",
    "        description=col,\n",
    "        disabled=False,\n",
    "        indent=False\n",
    "    )\n",
    "    parameters.append(cb)\n",
    "    \n",
    "button = widgets.Button(description=\"Render Graph\")\n",
    "output = widgets.Output()\n",
    "\n",
    "def on_button_clicked(b):\n",
    "    with output:\n",
    "        cols = [p.description for p in parameters if p.value]\n",
    "        if len(cols) > 0:\n",
    "            plot_graphs(dfs, test.value, gen_range.value, cols, method)\n",
    "\n",
    "button.on_click(on_button_clicked)"
   ]
  },
  {
   "cell_type": "code",
   "execution_count": 25,
   "id": "1754b984",
   "metadata": {},
   "outputs": [
    {
     "data": {
      "application/vnd.jupyter.widget-view+json": {
       "model_id": "fda16bff8b3946dfbd1f77c6c9acd96e",
       "version_major": 2,
       "version_minor": 0
      },
      "text/plain": [
       "ToggleButtons(description='Test:', options=('multiplexer', 'parity', 'regression', 'multiplexer_n1000', 'parit…"
      ]
     },
     "metadata": {},
     "output_type": "display_data"
    },
    {
     "data": {
      "application/vnd.jupyter.widget-view+json": {
       "model_id": "80ffab444cc84d58b8fcb9dd86611baf",
       "version_major": 2,
       "version_minor": 0
      },
      "text/plain": [
       "HBox(children=(Label(value='Method: '), ToggleButton(value=True, description='share', tooltip='Description'), …"
      ]
     },
     "metadata": {},
     "output_type": "display_data"
    },
    {
     "data": {
      "application/vnd.jupyter.widget-view+json": {
       "model_id": "548a0edff3c140579acd6124f8982bc0",
       "version_major": 2,
       "version_minor": 0
      },
      "text/plain": [
       "IntRangeSlider(value=(10, 1000), continuous_update=False, description='Generations:', max=1000, step=10)"
      ]
     },
     "metadata": {},
     "output_type": "display_data"
    },
    {
     "data": {
      "application/vnd.jupyter.widget-view+json": {
       "model_id": "4fa57c243c0a49cc9623ff37aac7a8c7",
       "version_major": 2,
       "version_minor": 0
      },
      "text/plain": [
       "HBox(children=(Checkbox(value=False, description='fitness', indent=False), Checkbox(value=False, description='…"
      ]
     },
     "metadata": {},
     "output_type": "display_data"
    },
    {
     "data": {
      "application/vnd.jupyter.widget-view+json": {
       "model_id": "0e1fc0b0e1a6488180fb45c1d0358fbd",
       "version_major": 2,
       "version_minor": 0
      },
      "text/plain": [
       "HBox(children=(Checkbox(value=False, description='total_gen_markers', indent=False), Checkbox(value=False, des…"
      ]
     },
     "metadata": {},
     "output_type": "display_data"
    },
    {
     "data": {
      "application/vnd.jupyter.widget-view+json": {
       "model_id": "341f9463d0c74e09a9d670da7d5e7400",
       "version_major": 2,
       "version_minor": 0
      },
      "text/plain": [
       "Button(description='Render Graph', style=ButtonStyle())"
      ]
     },
     "metadata": {},
     "output_type": "display_data"
    },
    {
     "data": {
      "application/vnd.jupyter.widget-view+json": {
       "model_id": "6998affb357b440c8b57d6c384c6912a",
       "version_major": 2,
       "version_minor": 0
      },
      "text/plain": [
       "Output()"
      ]
     },
     "metadata": {},
     "output_type": "display_data"
    }
   ],
   "source": [
    "display(test)\n",
    "display(widgets.HBox([widgets.Label(value=\"Method: \"), *method]))\n",
    "display(gen_range)\n",
    "\n",
    "half_len = len(parameters)//2\n",
    "input_widgets_1 = widgets.HBox(parameters[:half_len])\n",
    "display(input_widgets_1)\n",
    "input_widgets_2 = widgets.HBox(parameters[half_len:])\n",
    "display(input_widgets_2)\n",
    "\n",
    "display(button, output)"
   ]
  },
  {
   "cell_type": "code",
   "execution_count": null,
   "id": "a983893b",
   "metadata": {},
   "outputs": [],
   "source": []
  }
 ],
 "metadata": {
  "kernelspec": {
   "display_name": "Python 3 (ipykernel)",
   "language": "python",
   "name": "python3"
  },
  "language_info": {
   "codemirror_mode": {
    "name": "ipython",
    "version": 3
   },
   "file_extension": ".py",
   "mimetype": "text/x-python",
   "name": "python",
   "nbconvert_exporter": "python",
   "pygments_lexer": "ipython3",
   "version": "3.8.10"
  }
 },
 "nbformat": 4,
 "nbformat_minor": 5
}
