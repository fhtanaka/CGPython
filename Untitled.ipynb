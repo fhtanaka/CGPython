{
 "cells": [
  {
   "cell_type": "code",
   "execution_count": 1,
   "metadata": {},
   "outputs": [],
   "source": [
    "from node import Node, Operation\n",
    "from graph import Graph"
   ]
  },
  {
   "cell_type": "code",
   "execution_count": 2,
   "metadata": {},
   "outputs": [
    {
     "data": {
      "text/plain": [
       "True"
      ]
     },
     "execution_count": 2,
     "metadata": {},
     "output_type": "execute_result"
    }
   ],
   "source": [
    "plus = Operation(arity=2, operation=lambda x,y: x+y)\n",
    "neg = Operation(arity=1, operation=lambda x: -x)\n",
    "\n",
    "(plus.func(1,2), neg.func(5)) == (plus(1,2), neg(5))"
   ]
  },
  {
   "cell_type": "code",
   "execution_count": 3,
   "metadata": {},
   "outputs": [
    {
     "data": {
      "text/plain": [
       "(-5, -4)"
      ]
     },
     "execution_count": 3,
     "metadata": {},
     "output_type": "execute_result"
    }
   ],
   "source": [
    "def get_value(self):\n",
    "    if self.value:\n",
    "        return self.value\n",
    "        \n",
    "    #self.value = self.operation(*[x.get_value() for x in self.inputs]) #if we keep references instead of ids\n",
    "    self.value = self.operation(*[Node.graph[x].get_value() for x in self.inputs])\n",
    "    return self.value\n",
    "\n",
    "Node.get_value = get_value\n",
    "\n",
    "#operations\n",
    "incr = Operation(arity=2, operation=lambda x: x+1)\n",
    "neg  = Operation(arity=1, operation=lambda x: -x)\n",
    "cte  = Operation(arity=1, operation=lambda x: x)\n",
    "\n",
    "# input\n",
    "i0 = Node(terminal=True, operation=cte, value=5)\n",
    "\n",
    "# middle node\n",
    "n0 = Node(terminal=False, operation=neg)\n",
    "\n",
    "# output\n",
    "o1 = Node(terminal=False, operation=cte)\n",
    "o2 = Node(terminal=False, operation=incr)\n",
    "\n",
    "#connections\n",
    "n0.add_inputs([i0.id])\n",
    "\n",
    "o1.add_inputs([n0.id])\n",
    "o2.add_inputs([n0.id])\n",
    "\n",
    "'''\n",
    "i0->n0->(o1,o2)\n",
    "'''\n",
    "Node.graph = {i0.id: i0,\n",
    "              n0.id: n0,\n",
    "              o1.id: o1,\n",
    "              o2.id: o2}\n",
    "\n",
    "o1.get_value(), o2.get_value()"
   ]
  },
  {
   "cell_type": "code",
   "execution_count": 42,
   "metadata": {},
   "outputs": [],
   "source": [
    "import numpy as np\n",
    "\n",
    "class CGP():\n",
    "    operations = []\n",
    "    rng = np.random\n",
    "\n",
    "    def __init__(self, n_in, n_out, n_row, n_col):\n",
    "        self.nodes: Dict[str, Node] = {}\n",
    "            \n",
    "        self.n_in  = n_in\n",
    "        self.n_out = n_out\n",
    "        self.n_row = n_row\n",
    "        self.n_col = n_col\n",
    "        \n",
    "        self.columns = []\n",
    "\n",
    "    def add_input_layer(self):\n",
    "        cte = Operation(arity=1, operation=lambda x:x)\n",
    "        inputs = []\n",
    "        for i in range(self.n_in):\n",
    "            new_node = Node(terminal=True, operation=cte)\n",
    "            new_node.active = False\n",
    "            self.nodes[new_node.id] = new_node\n",
    "            inputs.append(new_node.id)\n",
    "        self.columns.append(inputs)\n",
    "        \n",
    "    def add_middle_layer(self):\n",
    "        for i in range(self.n_col):\n",
    "            col = []\n",
    "            for j in range(self.n_row):\n",
    "                new_node = Node(terminal=False, operation=CGP.rng.choice(CGP.operations))\n",
    "                new_node.active = False\n",
    "                self.nodes[new_node.id] = new_node\n",
    "                col.append(new_node.id)\n",
    "            self.columns.append(col)\n",
    "\n",
    "    def add_output_layer(self):\n",
    "        cte = Operation(arity=1, operation=lambda x:x)\n",
    "        outputs = []\n",
    "        for i in range(self.n_out):\n",
    "            new_node = Node(terminal=False, operation=cte)\n",
    "            new_node.active = True\n",
    "            self.nodes[new_node.id] = new_node\n",
    "            outputs.append(new_node.id)\n",
    "        self.columns.append(outputs)\n",
    "            \n",
    "    def make_connections(self):\n",
    "        # for each column, from output layer to input layer\n",
    "        for i in range(start, 0, -1):\n",
    "            # list of all previous nodes flattened\n",
    "            previous_cols = [value for col in self.columns[:i] for value in col]\n",
    "            \n",
    "            # for each node in the layer i\n",
    "            for j in self.columns[i]:\n",
    "                current_node = self.nodes[j]\n",
    "#                 print(\"node\", current_node.id, end=\" \")\n",
    "\n",
    "                if current_node.active:\n",
    "                    arity  = current_node.operation.arity\n",
    "#                     print(\"with arity\", arity, end=\" \")\n",
    "                    \n",
    "                    # pick n=arity nodes randomly\n",
    "                    inodes_idlist = CGP.rng.choice(previous_cols, arity)\n",
    "                    \n",
    "                    # add to the list of inputs\n",
    "                    current_node.add_inputs(inodes_idlist)\n",
    "#                     print(\"added inputs\", current_node.inputs)\n",
    "                    \n",
    "                    # mark picked nodes as active\n",
    "                    # (another option, we could process active nodes only)\n",
    "                    for nodeid in inodes_idlist:\n",
    "                        self.nodes[nodeid].active = True\n",
    "        \n",
    "    def get_node_value(self, node_id: int):\n",
    "        node = self.nodes[node_id]\n",
    "        if node.value != None:\n",
    "            return node.value\n",
    "\n",
    "        inputs = []\n",
    "        for i in node.inputs:\n",
    "            value = self.get_node_value(i)\n",
    "            inputs.append(value)\n",
    "\n",
    "        result = node.operation(*inputs)\n",
    "        node.value = result # this may help avoid recalculating nodes in the same execution\n",
    "                            # remember to make this value null when reseting the graph\n",
    "\n",
    "        return result\n",
    "\n",
    "        \n",
    "    @staticmethod\n",
    "    def initialize(n):\n",
    "        return [CGP() for _ in range(n)]\n",
    "            \n",
    "    @staticmethod\n",
    "    def add_operation(arity, func):\n",
    "        op = Operation(arity, func)\n",
    "        CGP.operations.append(op)\n",
    "        \n",
    "## set up ##\n",
    "seed = 2001\n",
    "CGP.rng = np.random.RandomState(seed)\n",
    "\n",
    "## parameters ##\n",
    "n_in  = 2\n",
    "n_out = 2\n",
    "max_size = (3, 2) #2 layers with 3 nodes each\n",
    "\n",
    "## primitives ##\n",
    "CGP.add_operation(1, lambda x: x+1)\n",
    "CGP.add_operation(2, lambda x: x+y)\n",
    "CGP.add_operation(1, lambda x: -x)\n",
    "\n",
    "\n",
    "n = 4 #population size\n",
    "population = [CGP(n_in, n_out, *max_size) for i in range(n)]"
   ]
  },
  {
   "cell_type": "code",
   "execution_count": 43,
   "metadata": {},
   "outputs": [
    {
     "name": "stdout",
     "output_type": "stream",
     "text": [
      "[[84, 85], [86, 87, 88], [89, 90, 91], [92, 93]]\n",
      "1 1 1 1 1 1 1 1 1 1 "
     ]
    }
   ],
   "source": [
    "a = CGP(n_in, n_out, *max_size)\n",
    "\n",
    "a.add_input_layer()\n",
    "a.add_middle_layer()\n",
    "a.add_output_layer()\n",
    "\n",
    "# print(a.nodes)\n",
    "print(a.columns)\n",
    "\n",
    "for c in a.columns:\n",
    "    for n in c:\n",
    "        print(a.nodes[n].operation.arity, end=\" \")"
   ]
  },
  {
   "cell_type": "code",
   "execution_count": 44,
   "metadata": {},
   "outputs": [
    {
     "name": "stdout",
     "output_type": "stream",
     "text": [
      "node 92 with arity 1 added inputs [89]\n",
      "node 93 with arity 1 added inputs [84]\n",
      "node 89 with arity 1 added inputs [85]\n",
      "node 90 node 91 node 86 node 87 node 88 id:84 inputs[]\n",
      "id:85 inputs[]\n",
      "id:86 inputs[]\n",
      "id:87 inputs[]\n",
      "id:88 inputs[]\n",
      "id:89 inputs[85]\n",
      "id:90 inputs[]\n",
      "id:91 inputs[]\n",
      "id:92 inputs[89]\n",
      "id:93 inputs[84]\n"
     ]
    }
   ],
   "source": [
    "a.make_connections()\n",
    "\n",
    "for c in a.columns:\n",
    "    for n in c:\n",
    "        mynode = a.nodes[n]\n",
    "        print(f\"id:{mynode.id} inputs{mynode.inputs}\")"
   ]
  },
  {
   "cell_type": "code",
   "execution_count": 45,
   "metadata": {},
   "outputs": [],
   "source": [
    "inode1 = a.nodes[a.columns[0][0]]\n",
    "inode2 = a.nodes[a.columns[0][1]]\n",
    "\n",
    "inode1.value = 5\n",
    "inode2.value = 10"
   ]
  },
  {
   "cell_type": "code",
   "execution_count": 47,
   "metadata": {},
   "outputs": [
    {
     "data": {
      "text/plain": [
       "(11, 5)"
      ]
     },
     "execution_count": 47,
     "metadata": {},
     "output_type": "execute_result"
    }
   ],
   "source": [
    "o1 = a.columns[-1][0]\n",
    "o2 = a.columns[-1][1]\n",
    "\n",
    "a.get_node_value(o1), a.get_node_value(o2)"
   ]
  },
  {
   "cell_type": "code",
   "execution_count": 49,
   "metadata": {},
   "outputs": [
    {
     "name": "stdout",
     "output_type": "stream",
     "text": [
      "92 [89]\n",
      "93 [84]\n",
      "89 [85]\n"
     ]
    }
   ],
   "source": [
    "self = a\n",
    "for i in range(start, 0, -1):\n",
    "    for j in self.columns[i]:\n",
    "        current_node = self.nodes[j]\n",
    "\n",
    "        if current_node.active:\n",
    "            print(current_node.id, current_node.inputs)"
   ]
  },
  {
   "cell_type": "code",
   "execution_count": null,
   "metadata": {},
   "outputs": [],
   "source": [
    "# def evaluate(self):\n",
    "#     if self.value:\n",
    "#         return self.value\n",
    "#     return self.func([x.value for x in self.inputs])\n",
    "\n",
    "\n",
    "# def get_value(self):\n",
    "#     if self._value:\n",
    "#         return self._value\n",
    "\n",
    "#     self._value = self.func([x.value for x in self.inputs])\n",
    "#     return self._value\n",
    "\n",
    "# @property\n",
    "# def value(self):\n",
    "#     if not self._value:\n",
    "#         self._value = self.func([x.value for x in self.inputs])\n",
    "#     return self._value\n",
    "\n",
    "# @x.setter\n",
    "# def x(self, x):\n",
    "#     #logging.debug(\"Solution.set_x \"+ str(x))\n",
    "#     self._x      = Solution.repair(x, *Solution.bounds)[:]\n",
    "#     self.fitness = None "
   ]
  }
 ],
 "metadata": {
  "kernelspec": {
   "display_name": "Python 3",
   "language": "python",
   "name": "python3"
  },
  "language_info": {
   "codemirror_mode": {
    "name": "ipython",
    "version": 3
   },
   "file_extension": ".py",
   "mimetype": "text/x-python",
   "name": "python",
   "nbconvert_exporter": "python",
   "pygments_lexer": "ipython3",
   "version": "3.7.7"
  }
 },
 "nbformat": 4,
 "nbformat_minor": 4
}
