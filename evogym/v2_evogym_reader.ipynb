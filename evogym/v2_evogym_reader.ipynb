{
 "cells": [
  {
   "cell_type": "code",
   "execution_count": 3,
   "id": "35390180",
   "metadata": {},
   "outputs": [],
   "source": [
    "from copyreg import constructor\n",
    "from evogym import is_connected, has_actuator, get_full_connectivity, hashable\n",
    "from evogym.envs import StepsUp, WalkingFlat\n",
    "import struct\n",
    "from typing import List, Tuple\n",
    "import numpy as np\n",
    "import dill\n",
    "from graph import Graph\n",
    "from evolution_strategies import tournament_selection\n",
    "from population import Population\n",
    "from arg_parser import parse_args\n",
    "from pygifsicle import optimize\n",
    "import imageio\n",
    "import test"
   ]
  },
  {
   "cell_type": "code",
   "execution_count": 18,
   "id": "704c1056",
   "metadata": {},
   "outputs": [],
   "source": [
    "FILE_PATH = \"results/fit_share_02.pkl\"\n",
    "GENERATION = \"99\"\n",
    "ENV = \"StepsUp\" # \"[WalkingFlat, StepsUp]\""
   ]
  },
  {
   "cell_type": "code",
   "execution_count": 19,
   "id": "9269d192",
   "metadata": {},
   "outputs": [],
   "source": [
    "with open(FILE_PATH, \"rb\") as file:\n",
    "    structure_pop, robot_dict = dill.load(file)\n",
    "    \n",
    "def get_observation(env):\n",
    "    a = env.get_vel_com_obs(\"robot\")\n",
    "    b = env.get_pos_com_obs(\"robot\")\n",
    "    c = env.get_floor_obs(\"robot\", [\"ground\"], 5)\n",
    "    return np.concatenate((a, b, c))\n",
    "\n",
    "# def get_observation(env):\n",
    "#     a = env.get_vel_com_obs(\"robot\")\n",
    "#     b = env.get_pos_com_obs(\"robot\")\n",
    "#     return np.concatenate((a, b))\n",
    "    \n",
    "def generate_robot(g: Graph, structure):\n",
    "    robot = np.zeros(structure)\n",
    "    for i in range(structure[0]):\n",
    "        for j in range(structure[1]):\n",
    "            input = (i - (structure[0] // 2),\n",
    "                     j - (structure[1] // 2))\n",
    "            graph_out = g.operate(input)\n",
    "            node = np.argmax(graph_out)\n",
    "            robot[i][j] = node\n",
    "    return robot\n",
    "\n",
    "def get_best_controller(robot, controller_population, n_steps):\n",
    "    robot = generate_robot(design, (5,5))    \n",
    "    connections = get_full_connectivity(robot)\n",
    "\n",
    "    \n",
    "    env = StepsUp(body=robot, connections=connections)\n",
    "    \n",
    "    fitness = []\n",
    "    cont = 0\n",
    "    for controller in controller_population.indvs:\n",
    "        env.reset()\n",
    "        reward = test.calculate_reward(env, controller, 500)\n",
    "        fitness.append((cont, reward, controller.id))\n",
    "        cont += 1\n",
    "        \n",
    "    fitness.sort(key=lambda x: (x[1], x[0]))\n",
    "    \n",
    "    return fitness"
   ]
  },
  {
   "cell_type": "code",
   "execution_count": 20,
   "id": "86968652",
   "metadata": {},
   "outputs": [
    {
     "name": "stdout",
     "output_type": "stream",
     "text": [
      "\t ID \t  Fitness \t Species\n",
      "0:\t 74099\t| 0.0000\t| 20717\n",
      "1:\t 84756\t| 0.0000\t| 19177\n",
      "2:\t 99938\t| 0.0000\t| 14888\n",
      "3:\t 99940\t| 0.0000\t| 18484\n",
      "4:\t 99942\t| 0.0000\t| 14888\n",
      "5:\t 99944\t| 0.0000\t| 14888\n",
      "6:\t 99946\t| 0.0000\t| 14888\n",
      "7:\t 99948\t| 0.0000\t| 14888\n",
      "8:\t 99950\t| 0.0000\t| 14888\n",
      "9:\t 99952\t| 0.0000\t| 14888\n",
      "10:\t 99954\t| 0.0000\t| 14888\n",
      "11:\t 99956\t| 0.0000\t| 20500\n",
      "12:\t 99957\t| 0.0000\t| 14888\n",
      "13:\t 99959\t| 0.0000\t| 14888\n",
      "14:\t 99961\t| 0.0000\t| 18484\n",
      "15:\t 99963\t| 0.0000\t| 18484\n",
      "16:\t 99965\t| 0.0000\t| 18484\n",
      "17:\t 99967\t| 0.0000\t| 20717\n",
      "18:\t 99969\t| 0.0000\t| 14888\n",
      "19:\t 99971\t| 0.0000\t| 14888\n"
     ]
    }
   ],
   "source": [
    "structure_pop.indvs.sort(key=lambda x: (x.original_fit*-1, x.id))\n",
    "cont = 0\n",
    "print(\"\\t ID \\t  Fitness \\t Species\")\n",
    "for design in structure_pop.indvs:\n",
    "    if design.original_fit > -999:\n",
    "       \n",
    "        print(f\"{cont}:\\t {design.id}\\t| {design.original_fit:.4f}\\t| {design.species_id}\")\n",
    "    cont+=1"
   ]
  },
  {
   "cell_type": "code",
   "execution_count": 21,
   "id": "6f9ae8f6",
   "metadata": {},
   "outputs": [],
   "source": [
    "STEPS = 600\n",
    "DESIGN_ID = 0\n",
    "SAVE_GIF = False"
   ]
  },
  {
   "cell_type": "code",
   "execution_count": 22,
   "id": "e63264e9",
   "metadata": {},
   "outputs": [
    {
     "name": "stdout",
     "output_type": "stream",
     "text": [
      "[[1. 1. 4. 4. 1.]\n",
      " [1. 1. 4. 4. 1.]\n",
      " [1. 1. 4. 0. 0.]\n",
      " [1. 1. 4. 0. 0.]\n",
      " [1. 1. 4. 0. 0.]]\n",
      "59073\n",
      "\n",
      "total reward: 2.84151\n",
      "\n"
     ]
    }
   ],
   "source": [
    "design =structure_pop.indvs[DESIGN_ID]\n",
    "\n",
    "robot = generate_robot(design, (5,5))\n",
    "connections = get_full_connectivity(robot)\n",
    "print(robot)\n",
    "\n",
    "if ENV == \"StepsUp\":\n",
    "    env = StepsUp(body=robot, connections=connections)\n",
    "else:\n",
    "    env = WalkingFlat(body=robot, connections=connections)\n",
    "\n",
    "\n",
    "env.reset()\n",
    "if not SAVE_GIF:\n",
    "    env.render('screen')\n",
    "\n",
    "controller_pop = robot_dict[hashable(robot)].population\n",
    "controller_pop.indvs.sort(key=lambda x: (x.original_fit*-1, x.id))\n",
    "controller = controller_pop.indvs[0]\n",
    "print(controller.id)\n",
    "\n",
    "reward = 0\n",
    "actuators = env.get_actuator_indices(\"robot\")\n",
    "imgs = []\n",
    "for _ in range(STEPS):\n",
    "    obs = get_observation(env)\n",
    "\n",
    "    action_by_actuator = controller.operate(obs, reset_fit=False)\n",
    "    action = [action_by_actuator[i] for i in actuators]\n",
    "#     action = np.clip(action, .6, 1.6)\n",
    "    _, r, done, _ = env.step(np.array(action))\n",
    "    \n",
    "    if SAVE_GIF:\n",
    "        imgs.append(env.render(mode='img'))\n",
    "    else:\n",
    "        env.render('screen')\n",
    "    reward += r\n",
    "\n",
    "    if done:\n",
    "        print(\"AAA\")\n",
    "        break\n",
    "\n",
    "        \n",
    "print(f'\\ntotal reward: {round(reward, 5)}\\n')\n",
    "env.close()\n",
    "\n",
    "if SAVE_GIF:\n",
    "    print(len(imgs))\n",
    "    imageio.mimsave(f'{ENV}_gen_{GENERATION}_c{CONTROLLER_ID}_d_{DESIGN_ID}.gif', imgs, duration=(1/60))"
   ]
  },
  {
   "cell_type": "code",
   "execution_count": 7,
   "id": "33f81bc4",
   "metadata": {},
   "outputs": [],
   "source": [
    "if SAVE_GIF:\n",
    "    optimize(f'{ENV}_gen_{GENERATION}_c{CONTROLLER_ID}_d_{DESIGN_ID}.gif')"
   ]
  },
  {
   "cell_type": "code",
   "execution_count": 26,
   "id": "80325f91",
   "metadata": {},
   "outputs": [
    {
     "name": "stdout",
     "output_type": "stream",
     "text": [
      "29\n"
     ]
    }
   ],
   "source": [
    "save_top = 20\n",
    "ordered_robots = {k: v for k, v in sorted(robot_dict.items(), key=lambda item: -1*item[1].best_fit)}\n",
    "best_robots = {}\n",
    "cont = 0\n",
    "for k, v in ordered_robots.items():\n",
    "    if cont >= save_top:\n",
    "        break\n",
    "    best_robots[k] = v\n",
    "    cont+=1\n",
    "for indv in structure_pop.indvs:\n",
    "    robot = generate_robot(indv, (5,5))\n",
    "    h = hashable(robot) \n",
    "    if h not in best_robots and h in robot_dict:\n",
    "        best_robots[h] = robot_dict[h]\n",
    "print(len(best_robots))"
   ]
  },
  {
   "cell_type": "code",
   "execution_count": null,
   "id": "bcac7547",
   "metadata": {},
   "outputs": [],
   "source": []
  }
 ],
 "metadata": {
  "kernelspec": {
   "display_name": "Python 3",
   "language": "python",
   "name": "python3"
  },
  "language_info": {
   "codemirror_mode": {
    "name": "ipython",
    "version": 3
   },
   "file_extension": ".py",
   "mimetype": "text/x-python",
   "name": "python",
   "nbconvert_exporter": "python",
   "pygments_lexer": "ipython3",
   "version": "3.7.11"
  }
 },
 "nbformat": 4,
 "nbformat_minor": 5
}
