{
 "cells": [
  {
   "cell_type": "code",
   "execution_count": 64,
   "id": "59194f47",
   "metadata": {},
   "outputs": [],
   "source": [
    "from copyreg import constructor\n",
    "from evogym import is_connected, has_actuator, get_full_connectivity, hashable\n",
    "from evogym.envs import StepsUp, WalkingFlat\n",
    "import struct\n",
    "from typing import List, Tuple\n",
    "import numpy as np\n",
    "import dill\n",
    "from graph import Graph\n",
    "from evolution_strategies import tournament_selection\n",
    "from population import Population\n",
    "from arg_parser import parse_args\n",
    "import imageio\n",
    "import test"
   ]
  },
  {
   "cell_type": "code",
   "execution_count": 65,
   "id": "ec0b7fd5",
   "metadata": {},
   "outputs": [],
   "source": [
    "FILE_PATH = \"../ladder/\"\n",
    "GENERATION = \"20\"\n",
    "ENV = \"StepsUp\" # \"[WalkingFlat, StepsUp]\""
   ]
  },
  {
   "cell_type": "code",
   "execution_count": 66,
   "id": "e5968467",
   "metadata": {},
   "outputs": [],
   "source": [
    "with open(f\"{FILE_PATH}structure_{GENERATION}.pkl\", \"rb\") as file:\n",
    "    structure_pop = dill.load(file)\n",
    "    \n",
    "with open(f\"{FILE_PATH}controler_{GENERATION}.pkl\", \"rb\") as file:\n",
    "    controller_pop = dill.load(file)\n",
    "    \n",
    "if ENV == \"StepsUp\":\n",
    "    def get_observation(env):\n",
    "        a = env.get_vel_com_obs(\"robot\")\n",
    "        b = env.get_pos_com_obs(\"robot\")\n",
    "        c = env.get_floor_obs(\"robot\", [\"ground\"], 5)\n",
    "        return np.concatenate((a, b, c))\n",
    "else:\n",
    "    def get_observation(env):\n",
    "        a = env.get_vel_com_obs(\"robot\")\n",
    "        b = env.get_pos_com_obs(\"robot\")\n",
    "        return np.concatenate((a, b))\n",
    "    \n",
    "def generate_robot(g: Graph, structure):\n",
    "    robot = np.zeros(structure)\n",
    "    for i in range(structure[0]):\n",
    "        for j in range(structure[1]):\n",
    "            input = (i - (structure[0] // 2),\n",
    "                     j - (structure[1] // 2))\n",
    "            graph_out = g.operate(input)\n",
    "            node = np.argmax(graph_out)\n",
    "            robot[i][j] = node\n",
    "    return robot\n",
    "\n",
    "def get_best_controller(robot, controller_population, n_steps):\n",
    "    robot = generate_robot(design, (5,5))    \n",
    "    connections = get_full_connectivity(robot)\n",
    "\n",
    "    if ENV == \"StepsUp\":\n",
    "        env = StepsUp(body=robot, connections=connections)\n",
    "    else:\n",
    "        env = WalkingFlat(body=robot, connections=connections)\n",
    "    env.reset()\n",
    "    \n",
    "    fitness = []\n",
    "    cont = 0\n",
    "    for controller in controller_population.indvs:\n",
    "        reward = test.calculate_reward(env, controller, 500)\n",
    "        fitness.append((cont, reward))\n",
    "        cont += 1\n",
    "        \n",
    "    fitness.sort(key=lambda x: (x[1], x[0]))\n",
    "    \n",
    "    return fitness"
   ]
  },
  {
   "cell_type": "code",
   "execution_count": 67,
   "id": "1cf65c49",
   "metadata": {},
   "outputs": [
    {
     "name": "stdout",
     "output_type": "stream",
     "text": [
      "\t ID \t  Fitness \t Species\n",
      "0:\t 2128\t| 1.6732\t| 68\n",
      "1:\t 1486\t| 1.5386\t| 68\n",
      "2:\t 1750\t| 1.4584\t| 68\n",
      "3:\t 2120\t| 1.2718\t| 68\n",
      "4:\t 2114\t| 0.6774\t| 68\n",
      "5:\t 2098\t| 0.2092\t| 68\n",
      "6:\t 2116\t| 0.1517\t| 6\n",
      "7:\t 2106\t| 0.0667\t| 68\n",
      "8:\t 2129\t| 0.0574\t| 68\n",
      "9:\t 2118\t| 0.0393\t| 68\n",
      "10:\t 2096\t| -3.0050\t| 68\n"
     ]
    }
   ],
   "source": [
    "structure_pop.indvs.sort(key=lambda x: (x.original_fit*-1, x.id))\n",
    "controller_pop.indvs.sort(key=lambda x: (x.original_fit*-1, x.id))\n",
    "cont = 0\n",
    "print(\"\\t ID \\t  Fitness \\t Species\")\n",
    "for design in structure_pop.indvs:\n",
    "    if design.original_fit > -999:\n",
    "       \n",
    "        print(f\"{cont}:\\t {design.id}\\t| {design.original_fit:.4f}\\t| {design.species_id}\")\n",
    "    cont+=1"
   ]
  },
  {
   "cell_type": "code",
   "execution_count": 68,
   "id": "fae31ef7",
   "metadata": {},
   "outputs": [],
   "source": [
    "STEPS = 500\n",
    "CONTROLLER_ID = 1\n",
    "DESIGN_ID = 2\n",
    "SAVE_GIF = False"
   ]
  },
  {
   "cell_type": "code",
   "execution_count": 69,
   "id": "8d74f88a",
   "metadata": {},
   "outputs": [
    {
     "name": "stdout",
     "output_type": "stream",
     "text": [
      "[[0. 0. 0. 0. 0.]\n",
      " [0. 0. 0. 4. 4.]\n",
      " [2. 1. 1. 4. 4.]\n",
      " [0. 1. 1. 4. 4.]\n",
      " [0. 0. 1. 0. 0.]]\n",
      "\n",
      "total reward: 1.55681\n",
      "\n"
     ]
    }
   ],
   "source": [
    "controller = controller_pop.indvs[CONTROLLER_ID]\n",
    "design =structure_pop.indvs[DESIGN_ID]\n",
    "\n",
    "robot = generate_robot(design, (5,5))\n",
    "print(robot)\n",
    "connections = get_full_connectivity(robot)\n",
    "\n",
    "if ENV == \"StepsUp\":\n",
    "    env = StepsUp(body=robot, connections=connections)\n",
    "else:\n",
    "    env = WalkingFlat(body=robot, connections=connections)\n",
    "\n",
    "\n",
    "\n",
    "env.reset()\n",
    "env.render('screen')\n",
    "\n",
    "reward = 0\n",
    "actuators = env.get_actuator_indices(\"robot\")\n",
    "imgs = []\n",
    "for _ in range(STEPS):\n",
    "    obs = get_observation(env)\n",
    "\n",
    "    action_by_actuator = controller.operate(obs, reset_fit=False)\n",
    "    action = [action_by_actuator[i] for i in actuators]\n",
    "#     action = np.clip(action, .6, 1.6)\n",
    "    _, r, done, _ = env.step(np.array(action))\n",
    "    \n",
    "    if SAVE_GIF:\n",
    "        imgs.append(env.render(mode='img'))\n",
    "    env.render('screen')\n",
    "    reward += r\n",
    "\n",
    "    if done:\n",
    "        print(\"AAA\")\n",
    "        break\n",
    "\n",
    "        \n",
    "print(f'\\ntotal reward: {round(reward, 5)}\\n')\n",
    "env.close()\n",
    "\n",
    "if SAVE_GIF:\n",
    "    imageio.mimsave(f'{ENV}_gen_{GENERATION}_c{CONTROLLER_ID}_d_{DESIGN_ID}.gif', imgs, duration=(1/50.0))"
   ]
  },
  {
   "cell_type": "code",
   "execution_count": 70,
   "id": "86ed60c3",
   "metadata": {},
   "outputs": [
    {
     "name": "stdout",
     "output_type": "stream",
     "text": [
      "[(11, -0.09125906127527794), (12, -0.0422769195774062), (18, -0.027374097071538372), (2, -0.016964866013839286), (6, -0.014535163024595121), (9, -0.011476202742538577), (19, -0.010781859724958043), (16, -0.009436795662332687), (1, -0.0073647259861706615), (7, -0.004573211805759314), (14, -0.003088256936597311), (4, -0.0027644429019275663), (5, 0.004542883966621725), (17, 0.010327394217517272), (10, 0.017754633641395623), (3, 0.017856830848064664), (8, 0.01792297134755083), (13, 0.03594248603409689), (15, 0.05373580451433124), (0, 1.458393179463169)]\n"
     ]
    }
   ],
   "source": [
    "aux = get_best_controller(robot, controller_pop, 200)\n",
    "print(aux)"
   ]
  },
  {
   "cell_type": "code",
   "execution_count": null,
   "id": "9dc4f395",
   "metadata": {},
   "outputs": [],
   "source": []
  }
 ],
 "metadata": {
  "kernelspec": {
   "display_name": "Python 3 (ipykernel)",
   "language": "python",
   "name": "python3"
  },
  "language_info": {
   "codemirror_mode": {
    "name": "ipython",
    "version": 3
   },
   "file_extension": ".py",
   "mimetype": "text/x-python",
   "name": "python",
   "nbconvert_exporter": "python",
   "pygments_lexer": "ipython3",
   "version": "3.8.10"
  }
 },
 "nbformat": 4,
 "nbformat_minor": 5
}
