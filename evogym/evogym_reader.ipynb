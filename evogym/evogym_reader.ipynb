{
 "cells": [
  {
   "cell_type": "code",
   "execution_count": 1,
   "id": "59194f47",
   "metadata": {},
   "outputs": [],
   "source": [
    "from copyreg import constructor\n",
    "from evogym import is_connected, has_actuator, get_full_connectivity, hashable\n",
    "from evogym.envs import StepsUp, WalkingFlat\n",
    "import struct\n",
    "from typing import List, Tuple\n",
    "import numpy as np\n",
    "import dill\n",
    "from graph import Graph\n",
    "from evolution_strategies import tournament_selection\n",
    "from population import Population\n",
    "from arg_parser import parse_args\n",
    "from pygifsicle import optimize\n",
    "import imageio\n",
    "import test"
   ]
  },
  {
   "cell_type": "code",
   "execution_count": 2,
   "id": "ec0b7fd5",
   "metadata": {},
   "outputs": [],
   "source": [
    "FILE_PATH = \"results_ladder/\"\n",
    "GENERATION = \"102\"\n",
    "ENV = \"StepsUp\" # \"[WalkingFlat, StepsUp]\""
   ]
  },
  {
   "cell_type": "code",
   "execution_count": 3,
   "id": "e5968467",
   "metadata": {},
   "outputs": [],
   "source": [
    "with open(f\"{FILE_PATH}structure_{GENERATION}.pkl\", \"rb\") as file:\n",
    "    structure_pop = dill.load(file)\n",
    "    \n",
    "with open(f\"{FILE_PATH}controler_{GENERATION}.pkl\", \"rb\") as file:\n",
    "    controller_pop = dill.load(file)\n",
    "    \n",
    "def get_observation(env):\n",
    "    a = env.get_vel_com_obs(\"robot\")\n",
    "    b = env.get_pos_com_obs(\"robot\")\n",
    "    c = env.get_floor_obs(\"robot\", [\"ground\"], 5)\n",
    "    return np.concatenate((a, b, c))\n",
    "\n",
    "# def get_observation(env):\n",
    "#     a = env.get_vel_com_obs(\"robot\")\n",
    "#     b = env.get_pos_com_obs(\"robot\")\n",
    "#     return np.concatenate((a, b))\n",
    "    \n",
    "def generate_robot(g: Graph, structure):\n",
    "    robot = np.zeros(structure)\n",
    "    for i in range(structure[0]):\n",
    "        for j in range(structure[1]):\n",
    "            input = (i - (structure[0] // 2),\n",
    "                     j - (structure[1] // 2))\n",
    "            graph_out = g.operate(input)\n",
    "            node = np.argmax(graph_out)\n",
    "            robot[i][j] = node\n",
    "    return robot\n",
    "\n",
    "def get_best_controller(robot, controller_population, n_steps):\n",
    "    robot = generate_robot(design, (5,5))    \n",
    "    connections = get_full_connectivity(robot)\n",
    "\n",
    "    \n",
    "    env = StepsUp(body=robot, connections=connections)\n",
    "    \n",
    "    fitness = []\n",
    "    cont = 0\n",
    "    for controller in controller_population.indvs:\n",
    "        env.reset()\n",
    "        reward = test.calculate_reward(env, controller, 500)\n",
    "        fitness.append((cont, reward, controller.id))\n",
    "        cont += 1\n",
    "        \n",
    "    fitness.sort(key=lambda x: (x[1], x[0]))\n",
    "    \n",
    "    return fitness"
   ]
  },
  {
   "cell_type": "code",
   "execution_count": 4,
   "id": "1cf65c49",
   "metadata": {},
   "outputs": [
    {
     "name": "stdout",
     "output_type": "stream",
     "text": [
      "\t ID \t  Fitness \t Species\n",
      "0:\t 2339\t| 3.2880\t| 549\n",
      "1:\t 16488\t| 2.7900\t| 4\n",
      "2:\t 16644\t| 2.3824\t| 582\n",
      "3:\t 16493\t| 1.4556\t| 4\n",
      "4:\t 15333\t| 1.4079\t| 4\n",
      "5:\t 16646\t| 1.3894\t| 4\n",
      "6:\t 16615\t| 0.9289\t| 580\n",
      "7:\t 16621\t| 0.8262\t| 4\n",
      "8:\t 16624\t| 0.8066\t| 4\n",
      "9:\t 16628\t| 0.5771\t| 4\n",
      "10:\t 16622\t| 0.4411\t| 581\n",
      "11:\t 16663\t| 0.2682\t| 584\n",
      "12:\t 16648\t| 0.2533\t| 4\n",
      "13:\t 16634\t| 0.2182\t| 4\n",
      "14:\t 16665\t| 0.0848\t| 549\n",
      "15:\t 16661\t| 0.0355\t| 581\n",
      "16:\t 16650\t| 0.0292\t| 583\n",
      "17:\t 16636\t| 0.0130\t| 4\n",
      "18:\t 16659\t| -0.0066\t| 4\n",
      "19:\t 16626\t| -0.0708\t| 4\n",
      "20:\t 16655\t| -0.0862\t| 4\n"
     ]
    }
   ],
   "source": [
    "structure_pop.indvs.sort(key=lambda x: (x.original_fit*-1, x.id))\n",
    "controller_pop.indvs.sort(key=lambda x: (x.original_fit*-1, x.id))\n",
    "cont = 0\n",
    "print(\"\\t ID \\t  Fitness \\t Species\")\n",
    "for design in structure_pop.indvs:\n",
    "    if design.original_fit > -999:\n",
    "       \n",
    "        print(f\"{cont}:\\t {design.id}\\t| {design.original_fit:.4f}\\t| {design.species_id}\")\n",
    "    cont+=1"
   ]
  },
  {
   "cell_type": "code",
   "execution_count": 5,
   "id": "fae31ef7",
   "metadata": {},
   "outputs": [],
   "source": [
    "STEPS = 600\n",
    "CONTROLLER_ID = 0\n",
    "DESIGN_ID = 2\n",
    "SAVE_GIF = False"
   ]
  },
  {
   "cell_type": "code",
   "execution_count": 6,
   "id": "8d74f88a",
   "metadata": {},
   "outputs": [
    {
     "name": "stdout",
     "output_type": "stream",
     "text": [
      "12262\n",
      "[[3. 3. 1. 1. 2.]\n",
      " [3. 3. 1. 1. 2.]\n",
      " [3. 3. 1. 1. 2.]\n",
      " [3. 3. 1. 1. 2.]\n",
      " [3. 3. 1. 1. 2.]]\n",
      "\n",
      "total reward: -0.01294\n",
      "\n"
     ]
    }
   ],
   "source": [
    "controller = controller_pop.indvs[CONTROLLER_ID]\n",
    "print(controller.id)\n",
    "design =structure_pop.indvs[DESIGN_ID]\n",
    "\n",
    "robot = generate_robot(design, (5,5))\n",
    "print(robot)\n",
    "connections = get_full_connectivity(robot)\n",
    "\n",
    "if ENV == \"StepsUp\":\n",
    "    env = StepsUp(body=robot, connections=connections)\n",
    "else:\n",
    "    env = WalkingFlat(body=robot, connections=connections)\n",
    "\n",
    "\n",
    "\n",
    "env.reset()\n",
    "if not SAVE_GIF:\n",
    "    env.render('screen')\n",
    "\n",
    "reward = 0\n",
    "actuators = env.get_actuator_indices(\"robot\")\n",
    "imgs = []\n",
    "for _ in range(STEPS):\n",
    "    obs = get_observation(env)\n",
    "\n",
    "    action_by_actuator = controller.operate(obs, reset_fit=False)\n",
    "    action = [action_by_actuator[i] for i in actuators]\n",
    "#     action = np.clip(action, .6, 1.6)\n",
    "    _, r, done, _ = env.step(np.array(action))\n",
    "    \n",
    "    if SAVE_GIF:\n",
    "        imgs.append(env.render(mode='img'))\n",
    "    else:\n",
    "        env.render('screen')\n",
    "    reward += r\n",
    "\n",
    "    if done:\n",
    "        print(\"AAA\")\n",
    "        break\n",
    "\n",
    "        \n",
    "print(f'\\ntotal reward: {round(reward, 5)}\\n')\n",
    "env.close()\n",
    "\n",
    "if SAVE_GIF:\n",
    "    print(len(imgs))\n",
    "    imageio.mimsave(f'{ENV}_gen_{GENERATION}_c{CONTROLLER_ID}_d_{DESIGN_ID}.gif', imgs, duration=(1/60))"
   ]
  },
  {
   "cell_type": "code",
   "execution_count": 7,
   "id": "eb3f0807",
   "metadata": {},
   "outputs": [],
   "source": [
    "if SAVE_GIF:\n",
    "    optimize(f'{ENV}_gen_{GENERATION}_c{CONTROLLER_ID}_d_{DESIGN_ID}.gif')"
   ]
  },
  {
   "cell_type": "code",
   "execution_count": 8,
   "id": "86ed60c3",
   "metadata": {},
   "outputs": [
    {
     "name": "stdout",
     "output_type": "stream",
     "text": [
      "[(2, -0.04458483797421986, 14673), (8, -0.0385576214406223, 16735), (3, -0.031149284260777454, 13274), (18, -0.029192391309832533, 16733), (14, -0.02673170125021962, 16710), (22, -0.021988592973069654, 16701), (16, -0.01619172421008247, 16719), (11, -0.014463164860610278, 16723), (0, -0.013791273941857973, 12262), (19, -0.013679612027845567, 16727), (4, -0.013549792689436346, 16687), (26, -0.011713565566719486, 16737), (27, -0.011299915235047364, 16725), (23, -0.009139255104605615, 16731), (17, -0.005878975937403053, 16714), (10, -0.004934934230262311, 16716), (29, -0.004115824286682557, 16689), (25, -0.0037141487676223273, 16694), (30, -0.0001820185549037956, 16697), (1, 7.879132742122374e-05, 10660), (5, 0.0005918257624430989, 16729), (31, 0.0014986744153973053, 16704), (21, 0.002932679151569473, 16699), (28, 0.00343437716398437, 16706), (9, 0.005061945348423191, 16708), (7, 0.0053311291419561035, 16696), (24, 0.005596095737637252, 16712), (6, 0.009809542442853425, 16703), (13, 0.011267267865726072, 16693), (20, 0.014550196741383248, 16721), (12, 0.014707539764355404, 16718), (15, 0.015569711122052743, 16691)]\n"
     ]
    }
   ],
   "source": [
    "aux = get_best_controller(robot, controller_pop, 600)\n",
    "print(aux)"
   ]
  },
  {
   "cell_type": "code",
   "execution_count": null,
   "id": "6d939ff2",
   "metadata": {},
   "outputs": [],
   "source": []
  }
 ],
 "metadata": {
  "kernelspec": {
   "display_name": "Python 3 (ipykernel)",
   "language": "python",
   "name": "python3"
  },
  "language_info": {
   "codemirror_mode": {
    "name": "ipython",
    "version": 3
   },
   "file_extension": ".py",
   "mimetype": "text/x-python",
   "name": "python",
   "nbconvert_exporter": "python",
   "pygments_lexer": "ipython3",
   "version": "3.8.10"
  }
 },
 "nbformat": 4,
 "nbformat_minor": 5
}
